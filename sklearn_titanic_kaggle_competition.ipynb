{
  "nbformat": 4,
  "nbformat_minor": 0,
  "metadata": {
    "colab": {
      "name": "sklearn titanic kaggle competition.ipynb",
      "provenance": [],
      "collapsed_sections": [],
      "mount_file_id": "1RIUAWLvwTKvGNnEompiqhx7WaseGofoQ",
      "authorship_tag": "ABX9TyM6V7Xb3CVQjS5iauVsVXWW",
      "include_colab_link": true
    },
    "kernelspec": {
      "name": "python3",
      "display_name": "Python 3"
    }
  },
  "cells": [
    {
      "cell_type": "markdown",
      "metadata": {
        "id": "view-in-github",
        "colab_type": "text"
      },
      "source": [
        "<a href=\"https://colab.research.google.com/github/LeonardoClemente23/predicao-titanic/blob/main/sklearn_titanic_kaggle_competition.ipynb\" target=\"_parent\"><img src=\"https://colab.research.google.com/assets/colab-badge.svg\" alt=\"Open In Colab\"/></a>"
      ]
    },
    {
      "cell_type": "code",
      "metadata": {
        "id": "Lxv2Hvz03r9h",
        "outputId": "b6f1ecad-e7d0-4396-a9fb-3ab8a7b99cd7",
        "colab": {
          "base_uri": "https://localhost:8080/",
          "height": 476
        }
      },
      "source": [
        "!pip install scikit-optimize\n",
        "!pip install category_encoders"
      ],
      "execution_count": null,
      "outputs": [
        {
          "output_type": "stream",
          "text": [
            "Collecting scikit-optimize\n",
            "\u001b[?25l  Downloading https://files.pythonhosted.org/packages/5c/87/310b52debfbc0cb79764e5770fa3f5c18f6f0754809ea9e2fc185e1b67d3/scikit_optimize-0.7.4-py2.py3-none-any.whl (80kB)\n",
            "\r\u001b[K     |████                            | 10kB 17.5MB/s eta 0:00:01\r\u001b[K     |████████▏                       | 20kB 1.7MB/s eta 0:00:01\r\u001b[K     |████████████▎                   | 30kB 2.2MB/s eta 0:00:01\r\u001b[K     |████████████████▎               | 40kB 2.5MB/s eta 0:00:01\r\u001b[K     |████████████████████▍           | 51kB 2.0MB/s eta 0:00:01\r\u001b[K     |████████████████████████▌       | 61kB 2.3MB/s eta 0:00:01\r\u001b[K     |████████████████████████████▌   | 71kB 2.4MB/s eta 0:00:01\r\u001b[K     |████████████████████████████████| 81kB 2.2MB/s \n",
            "\u001b[?25hRequirement already satisfied: scikit-learn>=0.19.1 in /usr/local/lib/python3.6/dist-packages (from scikit-optimize) (0.22.2.post1)\n",
            "Collecting pyaml>=16.9\n",
            "  Downloading https://files.pythonhosted.org/packages/15/c4/1310a054d33abc318426a956e7d6df0df76a6ddfa9c66f6310274fb75d42/pyaml-20.4.0-py2.py3-none-any.whl\n",
            "Requirement already satisfied: scipy>=0.18.0 in /usr/local/lib/python3.6/dist-packages (from scikit-optimize) (1.4.1)\n",
            "Requirement already satisfied: joblib>=0.11 in /usr/local/lib/python3.6/dist-packages (from scikit-optimize) (0.15.1)\n",
            "Requirement already satisfied: numpy>=1.11.0 in /usr/local/lib/python3.6/dist-packages (from scikit-optimize) (1.18.4)\n",
            "Requirement already satisfied: PyYAML in /usr/local/lib/python3.6/dist-packages (from pyaml>=16.9->scikit-optimize) (3.13)\n",
            "Installing collected packages: pyaml, scikit-optimize\n",
            "Successfully installed pyaml-20.4.0 scikit-optimize-0.7.4\n",
            "Collecting category_encoders\n",
            "\u001b[?25l  Downloading https://files.pythonhosted.org/packages/44/57/fcef41c248701ee62e8325026b90c432adea35555cbc870aff9cfba23727/category_encoders-2.2.2-py2.py3-none-any.whl (80kB)\n",
            "\u001b[K     |████████████████████████████████| 81kB 2.2MB/s \n",
            "\u001b[?25hRequirement already satisfied: numpy>=1.14.0 in /usr/local/lib/python3.6/dist-packages (from category_encoders) (1.18.4)\n",
            "Requirement already satisfied: scikit-learn>=0.20.0 in /usr/local/lib/python3.6/dist-packages (from category_encoders) (0.22.2.post1)\n",
            "Requirement already satisfied: pandas>=0.21.1 in /usr/local/lib/python3.6/dist-packages (from category_encoders) (1.0.4)\n",
            "Requirement already satisfied: patsy>=0.5.1 in /usr/local/lib/python3.6/dist-packages (from category_encoders) (0.5.1)\n",
            "Requirement already satisfied: statsmodels>=0.9.0 in /usr/local/lib/python3.6/dist-packages (from category_encoders) (0.10.2)\n",
            "Requirement already satisfied: scipy>=1.0.0 in /usr/local/lib/python3.6/dist-packages (from category_encoders) (1.4.1)\n",
            "Requirement already satisfied: joblib>=0.11 in /usr/local/lib/python3.6/dist-packages (from scikit-learn>=0.20.0->category_encoders) (0.15.1)\n",
            "Requirement already satisfied: python-dateutil>=2.6.1 in /usr/local/lib/python3.6/dist-packages (from pandas>=0.21.1->category_encoders) (2.8.1)\n",
            "Requirement already satisfied: pytz>=2017.2 in /usr/local/lib/python3.6/dist-packages (from pandas>=0.21.1->category_encoders) (2018.9)\n",
            "Requirement already satisfied: six in /usr/local/lib/python3.6/dist-packages (from patsy>=0.5.1->category_encoders) (1.12.0)\n",
            "Installing collected packages: category-encoders\n",
            "Successfully installed category-encoders-2.2.2\n"
          ],
          "name": "stdout"
        }
      ]
    },
    {
      "cell_type": "code",
      "metadata": {
        "id": "18ZMHF7plvnx"
      },
      "source": [
        "import pandas as pd\n",
        "import numpy as np\n",
        "import matplotlib.pyplot as plt\n"
      ],
      "execution_count": null,
      "outputs": []
    },
    {
      "cell_type": "markdown",
      "metadata": {
        "id": "SSLrQBJIXaN_"
      },
      "source": [
        "## Modelos testados"
      ]
    },
    {
      "cell_type": "code",
      "metadata": {
        "id": "I7wdiQLJVv3P"
      },
      "source": [
        "#modelo 1\n",
        "from sklearn.ensemble import RandomForestClassifier\n",
        "#modelo 2\n",
        "from sklearn.ensemble import GradientBoostingClassifier\n",
        "#modelo 3\n",
        "from sklearn.ensemble import ExtraTreesClassifier\n",
        "#modelo 4\n",
        "from sklearn.linear_model import LogisticRegressionCV\n",
        "#modelo 5\n",
        "from sklearn.neighbors import KNeighborsClassifier\n",
        "#modelo 6 e 7\n",
        "from sklearn.tree import DecisionTreeClassifier, ExtraTreeClassifier\n",
        "# modelo 8\n",
        "from sklearn.linear_model import LogisticRegression \n",
        "#modelo 9\n",
        "from lightgbm import LGBMClassifier\n",
        "#modelo 10\n",
        "from xgboost import XGBClassifier\n"
      ],
      "execution_count": null,
      "outputs": []
    },
    {
      "cell_type": "code",
      "metadata": {
        "id": "AG2Knum5XhaS"
      },
      "source": [
        "# Teste de eficiencia do modelo\n",
        "from sklearn.metrics import classification_report, confusion_matrix\n",
        "# Score do torneio\n",
        "from sklearn.metrics import accuracy_score\n",
        "# Dividindo teste e validação\n",
        "from sklearn.model_selection import train_test_split"
      ],
      "execution_count": null,
      "outputs": []
    },
    {
      "cell_type": "markdown",
      "metadata": {
        "id": "Mhe3LkGE4lbW"
      },
      "source": [
        "## Abrindo o dataset"
      ]
    },
    {
      "cell_type": "code",
      "metadata": {
        "id": "LMfIdXw0oLtm"
      },
      "source": [
        "path = 'drive/My Drive/Colab Notebooks/Datasets/titanic/'\n",
        "\n",
        "train = pd.read_csv(path+'train.csv')\n",
        "test = pd.read_csv(path+'test.csv')\n"
      ],
      "execution_count": null,
      "outputs": []
    },
    {
      "cell_type": "code",
      "metadata": {
        "id": "pwrHwbdA6epd"
      },
      "source": [
        "#train = train.drop(339)"
      ],
      "execution_count": null,
      "outputs": []
    },
    {
      "cell_type": "code",
      "metadata": {
        "id": "ngxU9fnbYO_u",
        "outputId": "9f2577f8-5885-41af-b36a-7792cce10e7f",
        "colab": {
          "base_uri": "https://localhost:8080/",
          "height": 204
        }
      },
      "source": [
        "test.head()"
      ],
      "execution_count": null,
      "outputs": [
        {
          "output_type": "execute_result",
          "data": {
            "text/html": [
              "<div>\n",
              "<style scoped>\n",
              "    .dataframe tbody tr th:only-of-type {\n",
              "        vertical-align: middle;\n",
              "    }\n",
              "\n",
              "    .dataframe tbody tr th {\n",
              "        vertical-align: top;\n",
              "    }\n",
              "\n",
              "    .dataframe thead th {\n",
              "        text-align: right;\n",
              "    }\n",
              "</style>\n",
              "<table border=\"1\" class=\"dataframe\">\n",
              "  <thead>\n",
              "    <tr style=\"text-align: right;\">\n",
              "      <th></th>\n",
              "      <th>PassengerId</th>\n",
              "      <th>Pclass</th>\n",
              "      <th>Name</th>\n",
              "      <th>Sex</th>\n",
              "      <th>Age</th>\n",
              "      <th>SibSp</th>\n",
              "      <th>Parch</th>\n",
              "      <th>Ticket</th>\n",
              "      <th>Fare</th>\n",
              "      <th>Cabin</th>\n",
              "      <th>Embarked</th>\n",
              "    </tr>\n",
              "  </thead>\n",
              "  <tbody>\n",
              "    <tr>\n",
              "      <th>0</th>\n",
              "      <td>892</td>\n",
              "      <td>3</td>\n",
              "      <td>Kelly, Mr. James</td>\n",
              "      <td>male</td>\n",
              "      <td>34.5</td>\n",
              "      <td>0</td>\n",
              "      <td>0</td>\n",
              "      <td>330911</td>\n",
              "      <td>7.8292</td>\n",
              "      <td>NaN</td>\n",
              "      <td>Q</td>\n",
              "    </tr>\n",
              "    <tr>\n",
              "      <th>1</th>\n",
              "      <td>893</td>\n",
              "      <td>3</td>\n",
              "      <td>Wilkes, Mrs. James (Ellen Needs)</td>\n",
              "      <td>female</td>\n",
              "      <td>47.0</td>\n",
              "      <td>1</td>\n",
              "      <td>0</td>\n",
              "      <td>363272</td>\n",
              "      <td>7.0000</td>\n",
              "      <td>NaN</td>\n",
              "      <td>S</td>\n",
              "    </tr>\n",
              "    <tr>\n",
              "      <th>2</th>\n",
              "      <td>894</td>\n",
              "      <td>2</td>\n",
              "      <td>Myles, Mr. Thomas Francis</td>\n",
              "      <td>male</td>\n",
              "      <td>62.0</td>\n",
              "      <td>0</td>\n",
              "      <td>0</td>\n",
              "      <td>240276</td>\n",
              "      <td>9.6875</td>\n",
              "      <td>NaN</td>\n",
              "      <td>Q</td>\n",
              "    </tr>\n",
              "    <tr>\n",
              "      <th>3</th>\n",
              "      <td>895</td>\n",
              "      <td>3</td>\n",
              "      <td>Wirz, Mr. Albert</td>\n",
              "      <td>male</td>\n",
              "      <td>27.0</td>\n",
              "      <td>0</td>\n",
              "      <td>0</td>\n",
              "      <td>315154</td>\n",
              "      <td>8.6625</td>\n",
              "      <td>NaN</td>\n",
              "      <td>S</td>\n",
              "    </tr>\n",
              "    <tr>\n",
              "      <th>4</th>\n",
              "      <td>896</td>\n",
              "      <td>3</td>\n",
              "      <td>Hirvonen, Mrs. Alexander (Helga E Lindqvist)</td>\n",
              "      <td>female</td>\n",
              "      <td>22.0</td>\n",
              "      <td>1</td>\n",
              "      <td>1</td>\n",
              "      <td>3101298</td>\n",
              "      <td>12.2875</td>\n",
              "      <td>NaN</td>\n",
              "      <td>S</td>\n",
              "    </tr>\n",
              "  </tbody>\n",
              "</table>\n",
              "</div>"
            ],
            "text/plain": [
              "   PassengerId  Pclass  ... Cabin Embarked\n",
              "0          892       3  ...   NaN        Q\n",
              "1          893       3  ...   NaN        S\n",
              "2          894       2  ...   NaN        Q\n",
              "3          895       3  ...   NaN        S\n",
              "4          896       3  ...   NaN        S\n",
              "\n",
              "[5 rows x 11 columns]"
            ]
          },
          "metadata": {
            "tags": []
          },
          "execution_count": 12
        }
      ]
    },
    {
      "cell_type": "code",
      "metadata": {
        "id": "slItG9eOoz3p",
        "outputId": "1c2204fe-b156-4844-caf3-a759b3423bed",
        "colab": {
          "base_uri": "https://localhost:8080/",
          "height": 266
        }
      },
      "source": [
        "train.head(7)"
      ],
      "execution_count": null,
      "outputs": [
        {
          "output_type": "execute_result",
          "data": {
            "text/html": [
              "<div>\n",
              "<style scoped>\n",
              "    .dataframe tbody tr th:only-of-type {\n",
              "        vertical-align: middle;\n",
              "    }\n",
              "\n",
              "    .dataframe tbody tr th {\n",
              "        vertical-align: top;\n",
              "    }\n",
              "\n",
              "    .dataframe thead th {\n",
              "        text-align: right;\n",
              "    }\n",
              "</style>\n",
              "<table border=\"1\" class=\"dataframe\">\n",
              "  <thead>\n",
              "    <tr style=\"text-align: right;\">\n",
              "      <th></th>\n",
              "      <th>PassengerId</th>\n",
              "      <th>Survived</th>\n",
              "      <th>Pclass</th>\n",
              "      <th>Name</th>\n",
              "      <th>Sex</th>\n",
              "      <th>Age</th>\n",
              "      <th>SibSp</th>\n",
              "      <th>Parch</th>\n",
              "      <th>Ticket</th>\n",
              "      <th>Fare</th>\n",
              "      <th>Cabin</th>\n",
              "      <th>Embarked</th>\n",
              "    </tr>\n",
              "  </thead>\n",
              "  <tbody>\n",
              "    <tr>\n",
              "      <th>0</th>\n",
              "      <td>1</td>\n",
              "      <td>0</td>\n",
              "      <td>3</td>\n",
              "      <td>Braund, Mr. Owen Harris</td>\n",
              "      <td>male</td>\n",
              "      <td>22.0</td>\n",
              "      <td>1</td>\n",
              "      <td>0</td>\n",
              "      <td>A/5 21171</td>\n",
              "      <td>7.2500</td>\n",
              "      <td>NaN</td>\n",
              "      <td>S</td>\n",
              "    </tr>\n",
              "    <tr>\n",
              "      <th>1</th>\n",
              "      <td>2</td>\n",
              "      <td>1</td>\n",
              "      <td>1</td>\n",
              "      <td>Cumings, Mrs. John Bradley (Florence Briggs Th...</td>\n",
              "      <td>female</td>\n",
              "      <td>38.0</td>\n",
              "      <td>1</td>\n",
              "      <td>0</td>\n",
              "      <td>PC 17599</td>\n",
              "      <td>71.2833</td>\n",
              "      <td>C85</td>\n",
              "      <td>C</td>\n",
              "    </tr>\n",
              "    <tr>\n",
              "      <th>2</th>\n",
              "      <td>3</td>\n",
              "      <td>1</td>\n",
              "      <td>3</td>\n",
              "      <td>Heikkinen, Miss. Laina</td>\n",
              "      <td>female</td>\n",
              "      <td>26.0</td>\n",
              "      <td>0</td>\n",
              "      <td>0</td>\n",
              "      <td>STON/O2. 3101282</td>\n",
              "      <td>7.9250</td>\n",
              "      <td>NaN</td>\n",
              "      <td>S</td>\n",
              "    </tr>\n",
              "    <tr>\n",
              "      <th>3</th>\n",
              "      <td>4</td>\n",
              "      <td>1</td>\n",
              "      <td>1</td>\n",
              "      <td>Futrelle, Mrs. Jacques Heath (Lily May Peel)</td>\n",
              "      <td>female</td>\n",
              "      <td>35.0</td>\n",
              "      <td>1</td>\n",
              "      <td>0</td>\n",
              "      <td>113803</td>\n",
              "      <td>53.1000</td>\n",
              "      <td>C123</td>\n",
              "      <td>S</td>\n",
              "    </tr>\n",
              "    <tr>\n",
              "      <th>4</th>\n",
              "      <td>5</td>\n",
              "      <td>0</td>\n",
              "      <td>3</td>\n",
              "      <td>Allen, Mr. William Henry</td>\n",
              "      <td>male</td>\n",
              "      <td>35.0</td>\n",
              "      <td>0</td>\n",
              "      <td>0</td>\n",
              "      <td>373450</td>\n",
              "      <td>8.0500</td>\n",
              "      <td>NaN</td>\n",
              "      <td>S</td>\n",
              "    </tr>\n",
              "    <tr>\n",
              "      <th>5</th>\n",
              "      <td>6</td>\n",
              "      <td>0</td>\n",
              "      <td>3</td>\n",
              "      <td>Moran, Mr. James</td>\n",
              "      <td>male</td>\n",
              "      <td>NaN</td>\n",
              "      <td>0</td>\n",
              "      <td>0</td>\n",
              "      <td>330877</td>\n",
              "      <td>8.4583</td>\n",
              "      <td>NaN</td>\n",
              "      <td>Q</td>\n",
              "    </tr>\n",
              "    <tr>\n",
              "      <th>6</th>\n",
              "      <td>7</td>\n",
              "      <td>0</td>\n",
              "      <td>1</td>\n",
              "      <td>McCarthy, Mr. Timothy J</td>\n",
              "      <td>male</td>\n",
              "      <td>54.0</td>\n",
              "      <td>0</td>\n",
              "      <td>0</td>\n",
              "      <td>17463</td>\n",
              "      <td>51.8625</td>\n",
              "      <td>E46</td>\n",
              "      <td>S</td>\n",
              "    </tr>\n",
              "  </tbody>\n",
              "</table>\n",
              "</div>"
            ],
            "text/plain": [
              "   PassengerId  Survived  Pclass  ...     Fare Cabin  Embarked\n",
              "0            1         0       3  ...   7.2500   NaN         S\n",
              "1            2         1       1  ...  71.2833   C85         C\n",
              "2            3         1       3  ...   7.9250   NaN         S\n",
              "3            4         1       1  ...  53.1000  C123         S\n",
              "4            5         0       3  ...   8.0500   NaN         S\n",
              "5            6         0       3  ...   8.4583   NaN         Q\n",
              "6            7         0       1  ...  51.8625   E46         S\n",
              "\n",
              "[7 rows x 12 columns]"
            ]
          },
          "metadata": {
            "tags": []
          },
          "execution_count": 13
        }
      ]
    },
    {
      "cell_type": "markdown",
      "metadata": {
        "id": "QvuiviY15Kqk"
      },
      "source": [
        "## Análise e tratamento do dataset"
      ]
    },
    {
      "cell_type": "code",
      "metadata": {
        "id": "alxIHhAxpnUk",
        "outputId": "721d8214-7eb1-461a-8879-52081e3a84c1",
        "colab": {
          "base_uri": "https://localhost:8080/",
          "height": 238
        }
      },
      "source": [
        "# verificando se tem valores faltantes\n",
        "train.isnull().sum()"
      ],
      "execution_count": null,
      "outputs": [
        {
          "output_type": "execute_result",
          "data": {
            "text/plain": [
              "PassengerId      0\n",
              "Survived         0\n",
              "Pclass           0\n",
              "Name             0\n",
              "Sex              0\n",
              "Age            177\n",
              "SibSp            0\n",
              "Parch            0\n",
              "Ticket           0\n",
              "Fare             0\n",
              "Cabin          687\n",
              "Embarked         2\n",
              "dtype: int64"
            ]
          },
          "metadata": {
            "tags": []
          },
          "execution_count": 14
        }
      ]
    },
    {
      "cell_type": "code",
      "metadata": {
        "id": "elpDFEp0rKY2",
        "outputId": "60e18906-649f-4efd-be28-780d055a4653",
        "colab": {
          "base_uri": "https://localhost:8080/",
          "height": 238
        }
      },
      "source": [
        "# mudando os valores nan por -1\n",
        "train = train.fillna(-1)\n",
        "test = test.fillna(-1)\n",
        "train.isnull().sum()"
      ],
      "execution_count": null,
      "outputs": [
        {
          "output_type": "execute_result",
          "data": {
            "text/plain": [
              "PassengerId    0\n",
              "Survived       0\n",
              "Pclass         0\n",
              "Name           0\n",
              "Sex            0\n",
              "Age            0\n",
              "SibSp          0\n",
              "Parch          0\n",
              "Ticket         0\n",
              "Fare           0\n",
              "Cabin          0\n",
              "Embarked       0\n",
              "dtype: int64"
            ]
          },
          "metadata": {
            "tags": []
          },
          "execution_count": 15
        }
      ]
    },
    {
      "cell_type": "code",
      "metadata": {
        "id": "tONcdahVrHw2",
        "outputId": "52ae12ff-7d9e-4f6f-f64c-a4374b131a83",
        "colab": {
          "base_uri": "https://localhost:8080/",
          "height": 340
        }
      },
      "source": [
        "# verificando os tipos dos dados\n",
        "train.info()"
      ],
      "execution_count": null,
      "outputs": [
        {
          "output_type": "stream",
          "text": [
            "<class 'pandas.core.frame.DataFrame'>\n",
            "Int64Index: 890 entries, 0 to 890\n",
            "Data columns (total 12 columns):\n",
            " #   Column       Non-Null Count  Dtype  \n",
            "---  ------       --------------  -----  \n",
            " 0   PassengerId  890 non-null    int64  \n",
            " 1   Survived     890 non-null    int64  \n",
            " 2   Pclass       890 non-null    int64  \n",
            " 3   Name         890 non-null    object \n",
            " 4   Sex          890 non-null    object \n",
            " 5   Age          890 non-null    float64\n",
            " 6   SibSp        890 non-null    int64  \n",
            " 7   Parch        890 non-null    int64  \n",
            " 8   Ticket       890 non-null    object \n",
            " 9   Fare         890 non-null    float64\n",
            " 10  Cabin        890 non-null    object \n",
            " 11  Embarked     890 non-null    object \n",
            "dtypes: float64(2), int64(5), object(5)\n",
            "memory usage: 90.4+ KB\n"
          ],
          "name": "stdout"
        }
      ]
    },
    {
      "cell_type": "code",
      "metadata": {
        "id": "S8O7T08nuiNa"
      },
      "source": [
        "# mudando para tipo categórico 'Embarked' e 'Sex'\n",
        "train = train.astype({'Embarked': 'category','Sex':'category','Cabin':'str'})\n",
        "test = test.astype({'Embarked': 'category','Sex':'category','Cabin':'str'})\n"
      ],
      "execution_count": null,
      "outputs": []
    },
    {
      "cell_type": "code",
      "metadata": {
        "id": "i_ltV6KXyvaj"
      },
      "source": [
        "# Função usada para extrair o deck de onde o passageiro estava a partir da coluna cabin\n",
        "def letter_number_split(string):\n",
        "  if string.isalnum():\n",
        "    return string[0]\n",
        "  else:\n",
        "    return 0"
      ],
      "execution_count": null,
      "outputs": []
    },
    {
      "cell_type": "code",
      "metadata": {
        "id": "YY2HThj024Zn"
      },
      "source": [
        "# Extraindo a feature do deck do navio\n",
        "train['Deck'] = train['Cabin'].map(lambda x: letter_number_split(x))\n",
        "train = train.astype({'Deck':'category'})\n",
        "\n",
        "test['Deck'] = test['Cabin'].map(lambda x: letter_number_split(x))\n",
        "test = test.astype({'Deck':'category'})"
      ],
      "execution_count": null,
      "outputs": []
    },
    {
      "cell_type": "code",
      "metadata": {
        "id": "aQGE8OJor8JX",
        "outputId": "171dc886-cf0d-496e-ceb8-29a1a2112afe",
        "colab": {
          "base_uri": "https://localhost:8080/",
          "height": 85
        }
      },
      "source": [
        "# Extraindo os títulos dos passageiros\n",
        "train['Name_title'] = train['Name'].str.split(\", \", expand = True)[1].str.split(\". \", expand = True)[0]\n",
        "test['Name_title'] = test['Name'].str.split(\", \", expand = True)[1].str.split(\". \", expand = True)[0]\n",
        "\n",
        "print(train['Name_title'].unique())\n",
        "print(\"-\"*70)\n",
        "print(test['Name_title'].unique())"
      ],
      "execution_count": null,
      "outputs": [
        {
          "output_type": "stream",
          "text": [
            "['Mr' 'Mrs' 'Miss' 'Master' 'Don' 'Rev' 'Dr' 'Mme' 'Ms' 'Major' 'Lady'\n",
            " 'Sir' 'Mlle' 'Col' 'Capt' 'th' 'Jonkheer']\n",
            "----------------------------------------------------------------------\n",
            "['Mr' 'Mrs' 'Miss' 'Master' 'Ms' 'Col' 'Rev' 'Dr' 'Dona']\n"
          ],
          "name": "stdout"
        }
      ]
    },
    {
      "cell_type": "code",
      "metadata": {
        "id": "_8xzPtVwuCLr"
      },
      "source": [
        "# Substituindo os titulos mais incomuns por 'Misc'\n",
        "#min_titles = (train[\"Name_title\"].value_counts() < 10)\n",
        "#train['Name_title'] = train['Name_title'].apply(lambda x: 'Misc' if min_titles.loc[x] else x)\n",
        "\n",
        "#min_titles = (test[\"Name_title\"].value_counts() < 10)\n",
        "#test['Name_title'] = test['Name_title'].apply(lambda x: 'Misc' if min_titles.loc[x] else x)"
      ],
      "execution_count": null,
      "outputs": []
    },
    {
      "cell_type": "code",
      "metadata": {
        "id": "gCvRq9rDyHd9"
      },
      "source": [
        "# Categorizando os títulos\n",
        "train = train.astype({'Name_title':'category'})\n",
        "\n",
        "test = test.astype({'Name_title':'category'})"
      ],
      "execution_count": null,
      "outputs": []
    },
    {
      "cell_type": "code",
      "metadata": {
        "id": "UAIQBufsxp_t"
      },
      "source": [
        "# Adicionando a feature de tamanho da família preço da passagem por pessoa\n",
        "train['Family_size'] = train['SibSp'] + train['Parch']\n",
        "train['Fare_per_person'] = train['Fare'] / (train['Family_size'] + 1)\n",
        "\n",
        "test['Family_size'] = test['SibSp'] + test['Parch']\n",
        "test['Fare_per_person'] = test['Fare'] / (test['Family_size'] + 1)"
      ],
      "execution_count": null,
      "outputs": []
    },
    {
      "cell_type": "code",
      "metadata": {
        "id": "qfDPwnaU5KT4"
      },
      "source": [
        "#Categorizando idade\n",
        "train['Age_band'] = pd.cut(train['Age'],bins=[-1, 0, 15, 31, 47,63,80])\n",
        "test['Age_band'] = pd.cut(test['Age'],bins=[-1, 0, 15, 31, 47,63,80])"
      ],
      "execution_count": null,
      "outputs": []
    },
    {
      "cell_type": "code",
      "metadata": {
        "id": "WxTVZ0wk8Bt7"
      },
      "source": [
        "# Categorizando tarifa por pessoa\n",
        "train['Fare_per_person_band'] = pd.qcut(train['Fare_per_person'],6)\n",
        "test['Fare_per_person_band'] = pd.qcut(test['Fare_per_person'],6)"
      ],
      "execution_count": null,
      "outputs": []
    },
    {
      "cell_type": "code",
      "metadata": {
        "id": "L1sHzr-Tani1"
      },
      "source": [
        "# categorizando Tarifa\n",
        "train['Fare_band'] = pd.qcut(train['Fare'],6)\n",
        "test['Fare_band'] = pd.qcut(test['Fare'],6)"
      ],
      "execution_count": null,
      "outputs": []
    },
    {
      "cell_type": "code",
      "metadata": {
        "id": "2Pw1HdMycwii"
      },
      "source": [
        "train = train.astype({'Fare_band':'category'})\n",
        "test = test.astype({'Fare_band':'category'})"
      ],
      "execution_count": null,
      "outputs": []
    },
    {
      "cell_type": "code",
      "metadata": {
        "id": "b0KNuaTW-RwJ"
      },
      "source": [
        "# A pessoa estava sozinha ou não, no navio? 1 = sim. 0 = não\n",
        "train['Is_alone'] = [1 if train['Family_size'][ind] == 0 else 0 for ind in train.index]\n",
        "test['Is_alone'] = [1 if test['Family_size'][ind] == 0 else 0 for ind in test.index]"
      ],
      "execution_count": null,
      "outputs": []
    },
    {
      "cell_type": "code",
      "metadata": {
        "id": "p14_zmybyf3b",
        "outputId": "ac800e0c-fa58-4357-dfe6-7015e827819f",
        "colab": {
          "base_uri": "https://localhost:8080/",
          "height": 289
        }
      },
      "source": [
        "train.head()"
      ],
      "execution_count": null,
      "outputs": [
        {
          "output_type": "execute_result",
          "data": {
            "text/html": [
              "<div>\n",
              "<style scoped>\n",
              "    .dataframe tbody tr th:only-of-type {\n",
              "        vertical-align: middle;\n",
              "    }\n",
              "\n",
              "    .dataframe tbody tr th {\n",
              "        vertical-align: top;\n",
              "    }\n",
              "\n",
              "    .dataframe thead th {\n",
              "        text-align: right;\n",
              "    }\n",
              "</style>\n",
              "<table border=\"1\" class=\"dataframe\">\n",
              "  <thead>\n",
              "    <tr style=\"text-align: right;\">\n",
              "      <th></th>\n",
              "      <th>PassengerId</th>\n",
              "      <th>Survived</th>\n",
              "      <th>Pclass</th>\n",
              "      <th>Name</th>\n",
              "      <th>Sex</th>\n",
              "      <th>Age</th>\n",
              "      <th>SibSp</th>\n",
              "      <th>Parch</th>\n",
              "      <th>Ticket</th>\n",
              "      <th>Fare</th>\n",
              "      <th>Cabin</th>\n",
              "      <th>Embarked</th>\n",
              "      <th>Deck</th>\n",
              "      <th>Name_title</th>\n",
              "      <th>Family_size</th>\n",
              "      <th>Fare_per_person</th>\n",
              "      <th>Age_band</th>\n",
              "      <th>Fare_per_person_band</th>\n",
              "      <th>Fare_band</th>\n",
              "      <th>Is_alone</th>\n",
              "    </tr>\n",
              "  </thead>\n",
              "  <tbody>\n",
              "    <tr>\n",
              "      <th>0</th>\n",
              "      <td>1</td>\n",
              "      <td>0</td>\n",
              "      <td>3</td>\n",
              "      <td>Braund, Mr. Owen Harris</td>\n",
              "      <td>male</td>\n",
              "      <td>22.0</td>\n",
              "      <td>1</td>\n",
              "      <td>0</td>\n",
              "      <td>A/5 21171</td>\n",
              "      <td>7.2500</td>\n",
              "      <td>-1</td>\n",
              "      <td>S</td>\n",
              "      <td>0</td>\n",
              "      <td>Mr</td>\n",
              "      <td>1</td>\n",
              "      <td>3.62500</td>\n",
              "      <td>(15, 31]</td>\n",
              "      <td>(-0.001, 6.75]</td>\n",
              "      <td>(-0.001, 7.775]</td>\n",
              "      <td>0</td>\n",
              "    </tr>\n",
              "    <tr>\n",
              "      <th>1</th>\n",
              "      <td>2</td>\n",
              "      <td>1</td>\n",
              "      <td>1</td>\n",
              "      <td>Cumings, Mrs. John Bradley (Florence Briggs Th...</td>\n",
              "      <td>female</td>\n",
              "      <td>38.0</td>\n",
              "      <td>1</td>\n",
              "      <td>0</td>\n",
              "      <td>PC 17599</td>\n",
              "      <td>71.2833</td>\n",
              "      <td>C85</td>\n",
              "      <td>C</td>\n",
              "      <td>C</td>\n",
              "      <td>Mrs</td>\n",
              "      <td>1</td>\n",
              "      <td>35.64165</td>\n",
              "      <td>(31, 47]</td>\n",
              "      <td>(29.582, 512.329]</td>\n",
              "      <td>(52.462, 512.329]</td>\n",
              "      <td>0</td>\n",
              "    </tr>\n",
              "    <tr>\n",
              "      <th>2</th>\n",
              "      <td>3</td>\n",
              "      <td>1</td>\n",
              "      <td>3</td>\n",
              "      <td>Heikkinen, Miss. Laina</td>\n",
              "      <td>female</td>\n",
              "      <td>26.0</td>\n",
              "      <td>0</td>\n",
              "      <td>0</td>\n",
              "      <td>STON/O2. 3101282</td>\n",
              "      <td>7.9250</td>\n",
              "      <td>-1</td>\n",
              "      <td>S</td>\n",
              "      <td>0</td>\n",
              "      <td>Miss</td>\n",
              "      <td>0</td>\n",
              "      <td>7.92500</td>\n",
              "      <td>(15, 31]</td>\n",
              "      <td>(7.775, 8.229]</td>\n",
              "      <td>(7.775, 8.662]</td>\n",
              "      <td>1</td>\n",
              "    </tr>\n",
              "    <tr>\n",
              "      <th>3</th>\n",
              "      <td>4</td>\n",
              "      <td>1</td>\n",
              "      <td>1</td>\n",
              "      <td>Futrelle, Mrs. Jacques Heath (Lily May Peel)</td>\n",
              "      <td>female</td>\n",
              "      <td>35.0</td>\n",
              "      <td>1</td>\n",
              "      <td>0</td>\n",
              "      <td>113803</td>\n",
              "      <td>53.1000</td>\n",
              "      <td>C123</td>\n",
              "      <td>S</td>\n",
              "      <td>C</td>\n",
              "      <td>Mrs</td>\n",
              "      <td>1</td>\n",
              "      <td>26.55000</td>\n",
              "      <td>(31, 47]</td>\n",
              "      <td>(13.0, 29.582]</td>\n",
              "      <td>(52.462, 512.329]</td>\n",
              "      <td>0</td>\n",
              "    </tr>\n",
              "    <tr>\n",
              "      <th>4</th>\n",
              "      <td>5</td>\n",
              "      <td>0</td>\n",
              "      <td>3</td>\n",
              "      <td>Allen, Mr. William Henry</td>\n",
              "      <td>male</td>\n",
              "      <td>35.0</td>\n",
              "      <td>0</td>\n",
              "      <td>0</td>\n",
              "      <td>373450</td>\n",
              "      <td>8.0500</td>\n",
              "      <td>-1</td>\n",
              "      <td>S</td>\n",
              "      <td>0</td>\n",
              "      <td>Mr</td>\n",
              "      <td>0</td>\n",
              "      <td>8.05000</td>\n",
              "      <td>(31, 47]</td>\n",
              "      <td>(7.775, 8.229]</td>\n",
              "      <td>(7.775, 8.662]</td>\n",
              "      <td>1</td>\n",
              "    </tr>\n",
              "  </tbody>\n",
              "</table>\n",
              "</div>"
            ],
            "text/plain": [
              "   PassengerId  Survived  ...          Fare_band Is_alone\n",
              "0            1         0  ...    (-0.001, 7.775]        0\n",
              "1            2         1  ...  (52.462, 512.329]        0\n",
              "2            3         1  ...     (7.775, 8.662]        1\n",
              "3            4         1  ...  (52.462, 512.329]        0\n",
              "4            5         0  ...     (7.775, 8.662]        1\n",
              "\n",
              "[5 rows x 20 columns]"
            ]
          },
          "metadata": {
            "tags": []
          },
          "execution_count": 31
        }
      ]
    },
    {
      "cell_type": "code",
      "metadata": {
        "id": "37gQbhMJAgDZ",
        "outputId": "2a6316cf-18c0-4a9d-c652-ec32fd0de962",
        "colab": {
          "base_uri": "https://localhost:8080/",
          "height": 476
        }
      },
      "source": [
        "train.info()"
      ],
      "execution_count": null,
      "outputs": [
        {
          "output_type": "stream",
          "text": [
            "<class 'pandas.core.frame.DataFrame'>\n",
            "Int64Index: 890 entries, 0 to 890\n",
            "Data columns (total 20 columns):\n",
            " #   Column                Non-Null Count  Dtype   \n",
            "---  ------                --------------  -----   \n",
            " 0   PassengerId           890 non-null    int64   \n",
            " 1   Survived              890 non-null    int64   \n",
            " 2   Pclass                890 non-null    int64   \n",
            " 3   Name                  890 non-null    object  \n",
            " 4   Sex                   890 non-null    category\n",
            " 5   Age                   890 non-null    float64 \n",
            " 6   SibSp                 890 non-null    int64   \n",
            " 7   Parch                 890 non-null    int64   \n",
            " 8   Ticket                890 non-null    object  \n",
            " 9   Fare                  890 non-null    float64 \n",
            " 10  Cabin                 890 non-null    object  \n",
            " 11  Embarked              890 non-null    category\n",
            " 12  Deck                  890 non-null    category\n",
            " 13  Name_title            890 non-null    category\n",
            " 14  Family_size           890 non-null    int64   \n",
            " 15  Fare_per_person       890 non-null    float64 \n",
            " 16  Age_band              713 non-null    category\n",
            " 17  Fare_per_person_band  890 non-null    category\n",
            " 18  Fare_band             890 non-null    category\n",
            " 19  Is_alone              890 non-null    int64   \n",
            "dtypes: category(7), float64(3), int64(7), object(3)\n",
            "memory usage: 145.6+ KB\n"
          ],
          "name": "stdout"
        }
      ]
    },
    {
      "cell_type": "code",
      "metadata": {
        "id": "pI2dP0V6Fgvg",
        "outputId": "6aea2e79-c852-4dc6-faf6-051592dd59f9",
        "colab": {
          "base_uri": "https://localhost:8080/",
          "height": 136
        }
      },
      "source": [
        "# Variáveis categóricas do dataset pós tratamento\n",
        "train.columns[train.dtypes == 'category'].to_list()"
      ],
      "execution_count": null,
      "outputs": [
        {
          "output_type": "execute_result",
          "data": {
            "text/plain": [
              "['Sex',\n",
              " 'Embarked',\n",
              " 'Deck',\n",
              " 'Name_title',\n",
              " 'Age_band',\n",
              " 'Fare_per_person_band',\n",
              " 'Fare_band']"
            ]
          },
          "metadata": {
            "tags": []
          },
          "execution_count": 33
        }
      ]
    },
    {
      "cell_type": "code",
      "metadata": {
        "id": "M_f7mOBBHe8w"
      },
      "source": [
        "# Encode de variáveis \n",
        "train['Age_band_code'] = train['Age_band'].cat.codes\n",
        "train['Fare_per_person_band_code'] = train['Fare_per_person_band'].cat.codes\n",
        "train['Fare_band_code'] = train['Fare_band'].cat.codes\n",
        "\n",
        "test['Age_band_code'] = test['Age_band'].cat.codes\n",
        "test['Fare_per_person_band_code'] = test['Fare_per_person_band'].cat.codes\n",
        "test['Fare_band_code'] = test['Fare_band'].cat.codes"
      ],
      "execution_count": null,
      "outputs": []
    },
    {
      "cell_type": "code",
      "metadata": {
        "id": "rdY33Ssm_ctf"
      },
      "source": [
        "# Variável idade_encode x classe\n",
        "train['Age_band_code*Class'] = train['Pclass'] * train['Age_band_code']\n",
        "test['Age_band_code*Class'] = test['Pclass'] * test['Age_band_code']"
      ],
      "execution_count": null,
      "outputs": []
    },
    {
      "cell_type": "code",
      "metadata": {
        "id": "h6_PynVmAhxz",
        "outputId": "889b494f-34e3-4de8-91a0-416eedb3926d",
        "colab": {
          "base_uri": "https://localhost:8080/",
          "height": 462
        }
      },
      "source": [
        "# Treino com variáveis categóricas no  formato one hot encode\n",
        "from category_encoders.one_hot import OneHotEncoder\n",
        "\n",
        "encoder = OneHotEncoder(cols=['Sex','Embarked','Deck','Name_title','Age_band_code','Fare_per_person_band_code','Fare_band_code'], use_cat_names=True)\n",
        "train_ohe = encoder.fit_transform(train)\n",
        "encoder.fit_transform(train.drop(columns='Survived'), train['Survived'])\n",
        "test_ohe = encoder.transform(test)\n",
        "test_ohe.head()"
      ],
      "execution_count": null,
      "outputs": [
        {
          "output_type": "stream",
          "text": [
            "/usr/local/lib/python3.6/dist-packages/statsmodels/tools/_testing.py:19: FutureWarning: pandas.util.testing is deprecated. Use the functions in the public API at pandas.testing instead.\n",
            "  import pandas.util.testing as tm\n"
          ],
          "name": "stderr"
        },
        {
          "output_type": "execute_result",
          "data": {
            "text/html": [
              "<div>\n",
              "<style scoped>\n",
              "    .dataframe tbody tr th:only-of-type {\n",
              "        vertical-align: middle;\n",
              "    }\n",
              "\n",
              "    .dataframe tbody tr th {\n",
              "        vertical-align: top;\n",
              "    }\n",
              "\n",
              "    .dataframe thead th {\n",
              "        text-align: right;\n",
              "    }\n",
              "</style>\n",
              "<table border=\"1\" class=\"dataframe\">\n",
              "  <thead>\n",
              "    <tr style=\"text-align: right;\">\n",
              "      <th></th>\n",
              "      <th>PassengerId</th>\n",
              "      <th>Pclass</th>\n",
              "      <th>Name</th>\n",
              "      <th>Sex_male</th>\n",
              "      <th>Sex_female</th>\n",
              "      <th>Age</th>\n",
              "      <th>SibSp</th>\n",
              "      <th>Parch</th>\n",
              "      <th>Ticket</th>\n",
              "      <th>Fare</th>\n",
              "      <th>Cabin</th>\n",
              "      <th>Embarked_S</th>\n",
              "      <th>Embarked_C</th>\n",
              "      <th>Embarked_Q</th>\n",
              "      <th>Embarked_-1</th>\n",
              "      <th>Deck_0</th>\n",
              "      <th>Deck_C</th>\n",
              "      <th>Deck_E</th>\n",
              "      <th>Deck_G</th>\n",
              "      <th>Deck_D</th>\n",
              "      <th>Deck_A</th>\n",
              "      <th>Deck_B</th>\n",
              "      <th>Deck_F</th>\n",
              "      <th>Name_title_Mr</th>\n",
              "      <th>Name_title_Mrs</th>\n",
              "      <th>Name_title_Miss</th>\n",
              "      <th>Name_title_Master</th>\n",
              "      <th>Name_title_Don</th>\n",
              "      <th>Name_title_Rev</th>\n",
              "      <th>Name_title_Dr</th>\n",
              "      <th>Name_title_Mme</th>\n",
              "      <th>Name_title_Ms</th>\n",
              "      <th>Name_title_Major</th>\n",
              "      <th>Name_title_Lady</th>\n",
              "      <th>Name_title_Sir</th>\n",
              "      <th>Name_title_Mlle</th>\n",
              "      <th>Name_title_Col</th>\n",
              "      <th>Name_title_Capt</th>\n",
              "      <th>Name_title_th</th>\n",
              "      <th>Name_title_Jonkheer</th>\n",
              "      <th>Family_size</th>\n",
              "      <th>Fare_per_person</th>\n",
              "      <th>Age_band</th>\n",
              "      <th>Fare_per_person_band</th>\n",
              "      <th>Fare_band</th>\n",
              "      <th>Is_alone</th>\n",
              "      <th>Age_band_code_2.0</th>\n",
              "      <th>Age_band_code_3.0</th>\n",
              "      <th>Age_band_code_-1.0</th>\n",
              "      <th>Age_band_code_4.0</th>\n",
              "      <th>Age_band_code_1.0</th>\n",
              "      <th>Age_band_code_5.0</th>\n",
              "      <th>Fare_per_person_band_code_0.0</th>\n",
              "      <th>Fare_per_person_band_code_5.0</th>\n",
              "      <th>Fare_per_person_band_code_2.0</th>\n",
              "      <th>Fare_per_person_band_code_4.0</th>\n",
              "      <th>Fare_per_person_band_code_3.0</th>\n",
              "      <th>Fare_per_person_band_code_1.0</th>\n",
              "      <th>Fare_band_code_0.0</th>\n",
              "      <th>Fare_band_code_5.0</th>\n",
              "      <th>Fare_band_code_1.0</th>\n",
              "      <th>Fare_band_code_4.0</th>\n",
              "      <th>Fare_band_code_3.0</th>\n",
              "      <th>Fare_band_code_2.0</th>\n",
              "      <th>Age_band_code*Class</th>\n",
              "    </tr>\n",
              "  </thead>\n",
              "  <tbody>\n",
              "    <tr>\n",
              "      <th>0</th>\n",
              "      <td>892</td>\n",
              "      <td>3</td>\n",
              "      <td>Kelly, Mr. James</td>\n",
              "      <td>1</td>\n",
              "      <td>0</td>\n",
              "      <td>34.5</td>\n",
              "      <td>0</td>\n",
              "      <td>0</td>\n",
              "      <td>330911</td>\n",
              "      <td>7.8292</td>\n",
              "      <td>-1</td>\n",
              "      <td>0</td>\n",
              "      <td>0</td>\n",
              "      <td>1</td>\n",
              "      <td>0</td>\n",
              "      <td>1</td>\n",
              "      <td>0</td>\n",
              "      <td>0</td>\n",
              "      <td>0</td>\n",
              "      <td>0</td>\n",
              "      <td>0</td>\n",
              "      <td>0</td>\n",
              "      <td>0</td>\n",
              "      <td>1</td>\n",
              "      <td>0</td>\n",
              "      <td>0</td>\n",
              "      <td>0</td>\n",
              "      <td>0</td>\n",
              "      <td>0</td>\n",
              "      <td>0</td>\n",
              "      <td>0</td>\n",
              "      <td>0</td>\n",
              "      <td>0</td>\n",
              "      <td>0</td>\n",
              "      <td>0</td>\n",
              "      <td>0</td>\n",
              "      <td>0</td>\n",
              "      <td>0</td>\n",
              "      <td>0</td>\n",
              "      <td>0</td>\n",
              "      <td>0</td>\n",
              "      <td>7.829200</td>\n",
              "      <td>(31, 47]</td>\n",
              "      <td>(7.775, 8.662]</td>\n",
              "      <td>(7.75, 8.662]</td>\n",
              "      <td>1</td>\n",
              "      <td>0</td>\n",
              "      <td>1</td>\n",
              "      <td>0</td>\n",
              "      <td>0</td>\n",
              "      <td>0</td>\n",
              "      <td>0</td>\n",
              "      <td>0</td>\n",
              "      <td>0</td>\n",
              "      <td>1</td>\n",
              "      <td>0</td>\n",
              "      <td>0</td>\n",
              "      <td>0</td>\n",
              "      <td>0</td>\n",
              "      <td>0</td>\n",
              "      <td>1</td>\n",
              "      <td>0</td>\n",
              "      <td>0</td>\n",
              "      <td>0</td>\n",
              "      <td>9</td>\n",
              "    </tr>\n",
              "    <tr>\n",
              "      <th>1</th>\n",
              "      <td>893</td>\n",
              "      <td>3</td>\n",
              "      <td>Wilkes, Mrs. James (Ellen Needs)</td>\n",
              "      <td>0</td>\n",
              "      <td>1</td>\n",
              "      <td>47.0</td>\n",
              "      <td>1</td>\n",
              "      <td>0</td>\n",
              "      <td>363272</td>\n",
              "      <td>7.0000</td>\n",
              "      <td>-1</td>\n",
              "      <td>1</td>\n",
              "      <td>0</td>\n",
              "      <td>0</td>\n",
              "      <td>0</td>\n",
              "      <td>1</td>\n",
              "      <td>0</td>\n",
              "      <td>0</td>\n",
              "      <td>0</td>\n",
              "      <td>0</td>\n",
              "      <td>0</td>\n",
              "      <td>0</td>\n",
              "      <td>0</td>\n",
              "      <td>0</td>\n",
              "      <td>1</td>\n",
              "      <td>0</td>\n",
              "      <td>0</td>\n",
              "      <td>0</td>\n",
              "      <td>0</td>\n",
              "      <td>0</td>\n",
              "      <td>0</td>\n",
              "      <td>0</td>\n",
              "      <td>0</td>\n",
              "      <td>0</td>\n",
              "      <td>0</td>\n",
              "      <td>0</td>\n",
              "      <td>0</td>\n",
              "      <td>0</td>\n",
              "      <td>0</td>\n",
              "      <td>0</td>\n",
              "      <td>1</td>\n",
              "      <td>3.500000</td>\n",
              "      <td>(31, 47]</td>\n",
              "      <td>(-1.001, 7.225]</td>\n",
              "      <td>(-1.001, 7.75]</td>\n",
              "      <td>0</td>\n",
              "      <td>0</td>\n",
              "      <td>1</td>\n",
              "      <td>0</td>\n",
              "      <td>0</td>\n",
              "      <td>0</td>\n",
              "      <td>0</td>\n",
              "      <td>1</td>\n",
              "      <td>0</td>\n",
              "      <td>0</td>\n",
              "      <td>0</td>\n",
              "      <td>0</td>\n",
              "      <td>0</td>\n",
              "      <td>1</td>\n",
              "      <td>0</td>\n",
              "      <td>0</td>\n",
              "      <td>0</td>\n",
              "      <td>0</td>\n",
              "      <td>0</td>\n",
              "      <td>9</td>\n",
              "    </tr>\n",
              "    <tr>\n",
              "      <th>2</th>\n",
              "      <td>894</td>\n",
              "      <td>2</td>\n",
              "      <td>Myles, Mr. Thomas Francis</td>\n",
              "      <td>1</td>\n",
              "      <td>0</td>\n",
              "      <td>62.0</td>\n",
              "      <td>0</td>\n",
              "      <td>0</td>\n",
              "      <td>240276</td>\n",
              "      <td>9.6875</td>\n",
              "      <td>-1</td>\n",
              "      <td>0</td>\n",
              "      <td>0</td>\n",
              "      <td>1</td>\n",
              "      <td>0</td>\n",
              "      <td>1</td>\n",
              "      <td>0</td>\n",
              "      <td>0</td>\n",
              "      <td>0</td>\n",
              "      <td>0</td>\n",
              "      <td>0</td>\n",
              "      <td>0</td>\n",
              "      <td>0</td>\n",
              "      <td>1</td>\n",
              "      <td>0</td>\n",
              "      <td>0</td>\n",
              "      <td>0</td>\n",
              "      <td>0</td>\n",
              "      <td>0</td>\n",
              "      <td>0</td>\n",
              "      <td>0</td>\n",
              "      <td>0</td>\n",
              "      <td>0</td>\n",
              "      <td>0</td>\n",
              "      <td>0</td>\n",
              "      <td>0</td>\n",
              "      <td>0</td>\n",
              "      <td>0</td>\n",
              "      <td>0</td>\n",
              "      <td>0</td>\n",
              "      <td>0</td>\n",
              "      <td>9.687500</td>\n",
              "      <td>(47, 63]</td>\n",
              "      <td>(8.662, 13.0]</td>\n",
              "      <td>(8.662, 14.454]</td>\n",
              "      <td>1</td>\n",
              "      <td>0</td>\n",
              "      <td>0</td>\n",
              "      <td>0</td>\n",
              "      <td>1</td>\n",
              "      <td>0</td>\n",
              "      <td>0</td>\n",
              "      <td>0</td>\n",
              "      <td>0</td>\n",
              "      <td>0</td>\n",
              "      <td>0</td>\n",
              "      <td>1</td>\n",
              "      <td>0</td>\n",
              "      <td>0</td>\n",
              "      <td>0</td>\n",
              "      <td>0</td>\n",
              "      <td>0</td>\n",
              "      <td>0</td>\n",
              "      <td>1</td>\n",
              "      <td>8</td>\n",
              "    </tr>\n",
              "    <tr>\n",
              "      <th>3</th>\n",
              "      <td>895</td>\n",
              "      <td>3</td>\n",
              "      <td>Wirz, Mr. Albert</td>\n",
              "      <td>1</td>\n",
              "      <td>0</td>\n",
              "      <td>27.0</td>\n",
              "      <td>0</td>\n",
              "      <td>0</td>\n",
              "      <td>315154</td>\n",
              "      <td>8.6625</td>\n",
              "      <td>-1</td>\n",
              "      <td>1</td>\n",
              "      <td>0</td>\n",
              "      <td>0</td>\n",
              "      <td>0</td>\n",
              "      <td>1</td>\n",
              "      <td>0</td>\n",
              "      <td>0</td>\n",
              "      <td>0</td>\n",
              "      <td>0</td>\n",
              "      <td>0</td>\n",
              "      <td>0</td>\n",
              "      <td>0</td>\n",
              "      <td>1</td>\n",
              "      <td>0</td>\n",
              "      <td>0</td>\n",
              "      <td>0</td>\n",
              "      <td>0</td>\n",
              "      <td>0</td>\n",
              "      <td>0</td>\n",
              "      <td>0</td>\n",
              "      <td>0</td>\n",
              "      <td>0</td>\n",
              "      <td>0</td>\n",
              "      <td>0</td>\n",
              "      <td>0</td>\n",
              "      <td>0</td>\n",
              "      <td>0</td>\n",
              "      <td>0</td>\n",
              "      <td>0</td>\n",
              "      <td>0</td>\n",
              "      <td>8.662500</td>\n",
              "      <td>(15, 31]</td>\n",
              "      <td>(7.775, 8.662]</td>\n",
              "      <td>(7.75, 8.662]</td>\n",
              "      <td>1</td>\n",
              "      <td>1</td>\n",
              "      <td>0</td>\n",
              "      <td>0</td>\n",
              "      <td>0</td>\n",
              "      <td>0</td>\n",
              "      <td>0</td>\n",
              "      <td>0</td>\n",
              "      <td>0</td>\n",
              "      <td>1</td>\n",
              "      <td>0</td>\n",
              "      <td>0</td>\n",
              "      <td>0</td>\n",
              "      <td>0</td>\n",
              "      <td>0</td>\n",
              "      <td>1</td>\n",
              "      <td>0</td>\n",
              "      <td>0</td>\n",
              "      <td>0</td>\n",
              "      <td>6</td>\n",
              "    </tr>\n",
              "    <tr>\n",
              "      <th>4</th>\n",
              "      <td>896</td>\n",
              "      <td>3</td>\n",
              "      <td>Hirvonen, Mrs. Alexander (Helga E Lindqvist)</td>\n",
              "      <td>0</td>\n",
              "      <td>1</td>\n",
              "      <td>22.0</td>\n",
              "      <td>1</td>\n",
              "      <td>1</td>\n",
              "      <td>3101298</td>\n",
              "      <td>12.2875</td>\n",
              "      <td>-1</td>\n",
              "      <td>1</td>\n",
              "      <td>0</td>\n",
              "      <td>0</td>\n",
              "      <td>0</td>\n",
              "      <td>1</td>\n",
              "      <td>0</td>\n",
              "      <td>0</td>\n",
              "      <td>0</td>\n",
              "      <td>0</td>\n",
              "      <td>0</td>\n",
              "      <td>0</td>\n",
              "      <td>0</td>\n",
              "      <td>0</td>\n",
              "      <td>1</td>\n",
              "      <td>0</td>\n",
              "      <td>0</td>\n",
              "      <td>0</td>\n",
              "      <td>0</td>\n",
              "      <td>0</td>\n",
              "      <td>0</td>\n",
              "      <td>0</td>\n",
              "      <td>0</td>\n",
              "      <td>0</td>\n",
              "      <td>0</td>\n",
              "      <td>0</td>\n",
              "      <td>0</td>\n",
              "      <td>0</td>\n",
              "      <td>0</td>\n",
              "      <td>0</td>\n",
              "      <td>2</td>\n",
              "      <td>4.095833</td>\n",
              "      <td>(15, 31]</td>\n",
              "      <td>(-1.001, 7.225]</td>\n",
              "      <td>(8.662, 14.454]</td>\n",
              "      <td>0</td>\n",
              "      <td>1</td>\n",
              "      <td>0</td>\n",
              "      <td>0</td>\n",
              "      <td>0</td>\n",
              "      <td>0</td>\n",
              "      <td>0</td>\n",
              "      <td>1</td>\n",
              "      <td>0</td>\n",
              "      <td>0</td>\n",
              "      <td>0</td>\n",
              "      <td>0</td>\n",
              "      <td>0</td>\n",
              "      <td>0</td>\n",
              "      <td>0</td>\n",
              "      <td>0</td>\n",
              "      <td>0</td>\n",
              "      <td>0</td>\n",
              "      <td>1</td>\n",
              "      <td>6</td>\n",
              "    </tr>\n",
              "  </tbody>\n",
              "</table>\n",
              "</div>"
            ],
            "text/plain": [
              "   PassengerId  Pclass  ... Fare_band_code_2.0  Age_band_code*Class\n",
              "0          892       3  ...                  0                    9\n",
              "1          893       3  ...                  0                    9\n",
              "2          894       2  ...                  1                    8\n",
              "3          895       3  ...                  0                    6\n",
              "4          896       3  ...                  1                    6\n",
              "\n",
              "[5 rows x 65 columns]"
            ]
          },
          "metadata": {
            "tags": []
          },
          "execution_count": 36
        }
      ]
    },
    {
      "cell_type": "code",
      "metadata": {
        "id": "tTSF1y2THOCy",
        "outputId": "1e1b6367-84d3-4e40-d20b-7b52d4505670",
        "colab": {
          "base_uri": "https://localhost:8080/",
          "height": 496
        }
      },
      "source": [
        "# Treino com variáveis categóricas no  formato target encode\n",
        "from category_encoders.target_encoder import TargetEncoder\n",
        "\n",
        "encoder = TargetEncoder(cols=['Sex','Embarked','Deck','Name_title','Age_band_code','Fare_per_person_band_code','Fare_band_code'])\n",
        "train_tg = encoder.fit_transform(train, train['Survived'])\n",
        "encoder.fit_transform(train.drop(columns='Survived'), train['Survived'])\n",
        "test_tg = encoder.transform(test)\n",
        "train_tg.head()"
      ],
      "execution_count": null,
      "outputs": [
        {
          "output_type": "execute_result",
          "data": {
            "text/html": [
              "<div>\n",
              "<style scoped>\n",
              "    .dataframe tbody tr th:only-of-type {\n",
              "        vertical-align: middle;\n",
              "    }\n",
              "\n",
              "    .dataframe tbody tr th {\n",
              "        vertical-align: top;\n",
              "    }\n",
              "\n",
              "    .dataframe thead th {\n",
              "        text-align: right;\n",
              "    }\n",
              "</style>\n",
              "<table border=\"1\" class=\"dataframe\">\n",
              "  <thead>\n",
              "    <tr style=\"text-align: right;\">\n",
              "      <th></th>\n",
              "      <th>PassengerId</th>\n",
              "      <th>Survived</th>\n",
              "      <th>Pclass</th>\n",
              "      <th>Name</th>\n",
              "      <th>Sex</th>\n",
              "      <th>Age</th>\n",
              "      <th>SibSp</th>\n",
              "      <th>Parch</th>\n",
              "      <th>Ticket</th>\n",
              "      <th>Fare</th>\n",
              "      <th>Cabin</th>\n",
              "      <th>Embarked</th>\n",
              "      <th>Deck</th>\n",
              "      <th>Name_title</th>\n",
              "      <th>Family_size</th>\n",
              "      <th>Fare_per_person</th>\n",
              "      <th>Age_band</th>\n",
              "      <th>Fare_per_person_band</th>\n",
              "      <th>Fare_band</th>\n",
              "      <th>Is_alone</th>\n",
              "      <th>Age_band_code</th>\n",
              "      <th>Fare_per_person_band_code</th>\n",
              "      <th>Fare_band_code</th>\n",
              "      <th>Age_band_code*Class</th>\n",
              "    </tr>\n",
              "  </thead>\n",
              "  <tbody>\n",
              "    <tr>\n",
              "      <th>0</th>\n",
              "      <td>1</td>\n",
              "      <td>0</td>\n",
              "      <td>3</td>\n",
              "      <td>Braund, Mr. Owen Harris</td>\n",
              "      <td>0.189236</td>\n",
              "      <td>22.0</td>\n",
              "      <td>1</td>\n",
              "      <td>0</td>\n",
              "      <td>A/5 21171</td>\n",
              "      <td>7.2500</td>\n",
              "      <td>-1</td>\n",
              "      <td>0.337481</td>\n",
              "      <td>0.309423</td>\n",
              "      <td>0.156977</td>\n",
              "      <td>1</td>\n",
              "      <td>3.62500</td>\n",
              "      <td>(15, 31]</td>\n",
              "      <td>(-0.001, 6.75]</td>\n",
              "      <td>(-0.001, 7.775]</td>\n",
              "      <td>0</td>\n",
              "      <td>0.362319</td>\n",
              "      <td>0.291391</td>\n",
              "      <td>0.205128</td>\n",
              "      <td>6</td>\n",
              "    </tr>\n",
              "    <tr>\n",
              "      <th>1</th>\n",
              "      <td>2</td>\n",
              "      <td>1</td>\n",
              "      <td>1</td>\n",
              "      <td>Cumings, Mrs. John Bradley (Florence Briggs Th...</td>\n",
              "      <td>0.742038</td>\n",
              "      <td>38.0</td>\n",
              "      <td>1</td>\n",
              "      <td>0</td>\n",
              "      <td>PC 17599</td>\n",
              "      <td>71.2833</td>\n",
              "      <td>C85</td>\n",
              "      <td>0.553571</td>\n",
              "      <td>0.607843</td>\n",
              "      <td>0.792000</td>\n",
              "      <td>1</td>\n",
              "      <td>35.64165</td>\n",
              "      <td>(31, 47]</td>\n",
              "      <td>(29.582, 512.329]</td>\n",
              "      <td>(52.462, 512.329]</td>\n",
              "      <td>0</td>\n",
              "      <td>0.403061</td>\n",
              "      <td>0.651007</td>\n",
              "      <td>0.697987</td>\n",
              "      <td>3</td>\n",
              "    </tr>\n",
              "    <tr>\n",
              "      <th>2</th>\n",
              "      <td>3</td>\n",
              "      <td>1</td>\n",
              "      <td>3</td>\n",
              "      <td>Heikkinen, Miss. Laina</td>\n",
              "      <td>0.742038</td>\n",
              "      <td>26.0</td>\n",
              "      <td>0</td>\n",
              "      <td>0</td>\n",
              "      <td>STON/O2. 3101282</td>\n",
              "      <td>7.9250</td>\n",
              "      <td>-1</td>\n",
              "      <td>0.337481</td>\n",
              "      <td>0.309423</td>\n",
              "      <td>0.697802</td>\n",
              "      <td>0</td>\n",
              "      <td>7.92500</td>\n",
              "      <td>(15, 31]</td>\n",
              "      <td>(7.775, 8.229]</td>\n",
              "      <td>(7.775, 8.662]</td>\n",
              "      <td>1</td>\n",
              "      <td>0.362319</td>\n",
              "      <td>0.195652</td>\n",
              "      <td>0.190789</td>\n",
              "      <td>6</td>\n",
              "    </tr>\n",
              "    <tr>\n",
              "      <th>3</th>\n",
              "      <td>4</td>\n",
              "      <td>1</td>\n",
              "      <td>1</td>\n",
              "      <td>Futrelle, Mrs. Jacques Heath (Lily May Peel)</td>\n",
              "      <td>0.742038</td>\n",
              "      <td>35.0</td>\n",
              "      <td>1</td>\n",
              "      <td>0</td>\n",
              "      <td>113803</td>\n",
              "      <td>53.1000</td>\n",
              "      <td>C123</td>\n",
              "      <td>0.337481</td>\n",
              "      <td>0.607843</td>\n",
              "      <td>0.792000</td>\n",
              "      <td>1</td>\n",
              "      <td>26.55000</td>\n",
              "      <td>(31, 47]</td>\n",
              "      <td>(13.0, 29.582]</td>\n",
              "      <td>(52.462, 512.329]</td>\n",
              "      <td>0</td>\n",
              "      <td>0.403061</td>\n",
              "      <td>0.491228</td>\n",
              "      <td>0.697987</td>\n",
              "      <td>3</td>\n",
              "    </tr>\n",
              "    <tr>\n",
              "      <th>4</th>\n",
              "      <td>5</td>\n",
              "      <td>0</td>\n",
              "      <td>3</td>\n",
              "      <td>Allen, Mr. William Henry</td>\n",
              "      <td>0.189236</td>\n",
              "      <td>35.0</td>\n",
              "      <td>0</td>\n",
              "      <td>0</td>\n",
              "      <td>373450</td>\n",
              "      <td>8.0500</td>\n",
              "      <td>-1</td>\n",
              "      <td>0.337481</td>\n",
              "      <td>0.309423</td>\n",
              "      <td>0.156977</td>\n",
              "      <td>0</td>\n",
              "      <td>8.05000</td>\n",
              "      <td>(31, 47]</td>\n",
              "      <td>(7.775, 8.229]</td>\n",
              "      <td>(7.775, 8.662]</td>\n",
              "      <td>1</td>\n",
              "      <td>0.403061</td>\n",
              "      <td>0.195652</td>\n",
              "      <td>0.190789</td>\n",
              "      <td>9</td>\n",
              "    </tr>\n",
              "  </tbody>\n",
              "</table>\n",
              "</div>"
            ],
            "text/plain": [
              "   PassengerId  Survived  ...  Fare_band_code Age_band_code*Class\n",
              "0            1         0  ...        0.205128                   6\n",
              "1            2         1  ...        0.697987                   3\n",
              "2            3         1  ...        0.190789                   6\n",
              "3            4         1  ...        0.697987                   3\n",
              "4            5         0  ...        0.190789                   9\n",
              "\n",
              "[5 rows x 24 columns]"
            ]
          },
          "metadata": {
            "tags": []
          },
          "execution_count": 38
        }
      ]
    },
    {
      "cell_type": "code",
      "metadata": {
        "id": "RONFzeE2vWF_",
        "outputId": "aca689f7-9180-4273-f806-dc7ca669cd39",
        "colab": {
          "base_uri": "https://localhost:8080/",
          "height": 496
        }
      },
      "source": [
        "# # Treino com variáveis categóricas no formato ordinal encode\n",
        "train_ord = train.copy()\n",
        "test_ord = test.copy()\n",
        "train_ord['Sex_code'] = train['Sex'].cat.codes\n",
        "train_ord['Embarked_code'] = train['Embarked'].cat.codes\n",
        "train_ord['Deck_codes'] = train['Deck'].cat.codes\n",
        "train_ord['Name_title_code'] = train['Name_title'].cat.codes\n",
        "train_ord['Age_band_code'] = train['Age_band'].cat.codes\n",
        "train_ord['Fare_per_person_band_code'] = train['Fare_per_person_band'].cat.codes\n",
        "train_ord['Fare_band_code'] = train['Fare_band'].cat.codes\n",
        "\n",
        "test_ord['Sex_code'] = test['Sex'].cat.codes\n",
        "test_ord['Embarked_code'] = test['Embarked'].cat.codes\n",
        "test_ord['Deck_codes'] = test['Deck'].cat.codes\n",
        "test_ord['Name_title_code'] = test['Name_title'].cat.codes\n",
        "test_ord['Age_band_code'] = test['Age_band'].cat.codes\n",
        "test_ord['Fare_per_person_band_code'] = test['Fare_per_person_band'].cat.codes\n",
        "test_ord['Fare_band_code'] = test['Fare_band'].cat.codes\n",
        "\n",
        "train_ord.head()"
      ],
      "execution_count": null,
      "outputs": [
        {
          "output_type": "execute_result",
          "data": {
            "text/html": [
              "<div>\n",
              "<style scoped>\n",
              "    .dataframe tbody tr th:only-of-type {\n",
              "        vertical-align: middle;\n",
              "    }\n",
              "\n",
              "    .dataframe tbody tr th {\n",
              "        vertical-align: top;\n",
              "    }\n",
              "\n",
              "    .dataframe thead th {\n",
              "        text-align: right;\n",
              "    }\n",
              "</style>\n",
              "<table border=\"1\" class=\"dataframe\">\n",
              "  <thead>\n",
              "    <tr style=\"text-align: right;\">\n",
              "      <th></th>\n",
              "      <th>PassengerId</th>\n",
              "      <th>Survived</th>\n",
              "      <th>Pclass</th>\n",
              "      <th>Name</th>\n",
              "      <th>Sex</th>\n",
              "      <th>Age</th>\n",
              "      <th>SibSp</th>\n",
              "      <th>Parch</th>\n",
              "      <th>Ticket</th>\n",
              "      <th>Fare</th>\n",
              "      <th>Cabin</th>\n",
              "      <th>Embarked</th>\n",
              "      <th>Deck</th>\n",
              "      <th>Name_title</th>\n",
              "      <th>Family_size</th>\n",
              "      <th>Fare_per_person</th>\n",
              "      <th>Age_band</th>\n",
              "      <th>Fare_per_person_band</th>\n",
              "      <th>Fare_band</th>\n",
              "      <th>Is_alone</th>\n",
              "      <th>Age_band_code</th>\n",
              "      <th>Fare_per_person_band_code</th>\n",
              "      <th>Fare_band_code</th>\n",
              "      <th>Age_band_code*Class</th>\n",
              "      <th>Sex_code</th>\n",
              "      <th>Embarked_code</th>\n",
              "      <th>Deck_codes</th>\n",
              "      <th>Name_title_code</th>\n",
              "    </tr>\n",
              "  </thead>\n",
              "  <tbody>\n",
              "    <tr>\n",
              "      <th>0</th>\n",
              "      <td>1</td>\n",
              "      <td>0</td>\n",
              "      <td>3</td>\n",
              "      <td>Braund, Mr. Owen Harris</td>\n",
              "      <td>male</td>\n",
              "      <td>22.0</td>\n",
              "      <td>1</td>\n",
              "      <td>0</td>\n",
              "      <td>A/5 21171</td>\n",
              "      <td>7.2500</td>\n",
              "      <td>-1</td>\n",
              "      <td>S</td>\n",
              "      <td>0</td>\n",
              "      <td>Mr</td>\n",
              "      <td>1</td>\n",
              "      <td>3.62500</td>\n",
              "      <td>(15, 31]</td>\n",
              "      <td>(-0.001, 6.75]</td>\n",
              "      <td>(-0.001, 7.775]</td>\n",
              "      <td>0</td>\n",
              "      <td>2</td>\n",
              "      <td>0</td>\n",
              "      <td>0</td>\n",
              "      <td>6</td>\n",
              "      <td>1</td>\n",
              "      <td>3</td>\n",
              "      <td>0</td>\n",
              "      <td>11</td>\n",
              "    </tr>\n",
              "    <tr>\n",
              "      <th>1</th>\n",
              "      <td>2</td>\n",
              "      <td>1</td>\n",
              "      <td>1</td>\n",
              "      <td>Cumings, Mrs. John Bradley (Florence Briggs Th...</td>\n",
              "      <td>female</td>\n",
              "      <td>38.0</td>\n",
              "      <td>1</td>\n",
              "      <td>0</td>\n",
              "      <td>PC 17599</td>\n",
              "      <td>71.2833</td>\n",
              "      <td>C85</td>\n",
              "      <td>C</td>\n",
              "      <td>C</td>\n",
              "      <td>Mrs</td>\n",
              "      <td>1</td>\n",
              "      <td>35.64165</td>\n",
              "      <td>(31, 47]</td>\n",
              "      <td>(29.582, 512.329]</td>\n",
              "      <td>(52.462, 512.329]</td>\n",
              "      <td>0</td>\n",
              "      <td>3</td>\n",
              "      <td>5</td>\n",
              "      <td>5</td>\n",
              "      <td>3</td>\n",
              "      <td>0</td>\n",
              "      <td>1</td>\n",
              "      <td>3</td>\n",
              "      <td>12</td>\n",
              "    </tr>\n",
              "    <tr>\n",
              "      <th>2</th>\n",
              "      <td>3</td>\n",
              "      <td>1</td>\n",
              "      <td>3</td>\n",
              "      <td>Heikkinen, Miss. Laina</td>\n",
              "      <td>female</td>\n",
              "      <td>26.0</td>\n",
              "      <td>0</td>\n",
              "      <td>0</td>\n",
              "      <td>STON/O2. 3101282</td>\n",
              "      <td>7.9250</td>\n",
              "      <td>-1</td>\n",
              "      <td>S</td>\n",
              "      <td>0</td>\n",
              "      <td>Miss</td>\n",
              "      <td>0</td>\n",
              "      <td>7.92500</td>\n",
              "      <td>(15, 31]</td>\n",
              "      <td>(7.775, 8.229]</td>\n",
              "      <td>(7.775, 8.662]</td>\n",
              "      <td>1</td>\n",
              "      <td>2</td>\n",
              "      <td>2</td>\n",
              "      <td>1</td>\n",
              "      <td>6</td>\n",
              "      <td>0</td>\n",
              "      <td>3</td>\n",
              "      <td>0</td>\n",
              "      <td>8</td>\n",
              "    </tr>\n",
              "    <tr>\n",
              "      <th>3</th>\n",
              "      <td>4</td>\n",
              "      <td>1</td>\n",
              "      <td>1</td>\n",
              "      <td>Futrelle, Mrs. Jacques Heath (Lily May Peel)</td>\n",
              "      <td>female</td>\n",
              "      <td>35.0</td>\n",
              "      <td>1</td>\n",
              "      <td>0</td>\n",
              "      <td>113803</td>\n",
              "      <td>53.1000</td>\n",
              "      <td>C123</td>\n",
              "      <td>S</td>\n",
              "      <td>C</td>\n",
              "      <td>Mrs</td>\n",
              "      <td>1</td>\n",
              "      <td>26.55000</td>\n",
              "      <td>(31, 47]</td>\n",
              "      <td>(13.0, 29.582]</td>\n",
              "      <td>(52.462, 512.329]</td>\n",
              "      <td>0</td>\n",
              "      <td>3</td>\n",
              "      <td>4</td>\n",
              "      <td>5</td>\n",
              "      <td>3</td>\n",
              "      <td>0</td>\n",
              "      <td>3</td>\n",
              "      <td>3</td>\n",
              "      <td>12</td>\n",
              "    </tr>\n",
              "    <tr>\n",
              "      <th>4</th>\n",
              "      <td>5</td>\n",
              "      <td>0</td>\n",
              "      <td>3</td>\n",
              "      <td>Allen, Mr. William Henry</td>\n",
              "      <td>male</td>\n",
              "      <td>35.0</td>\n",
              "      <td>0</td>\n",
              "      <td>0</td>\n",
              "      <td>373450</td>\n",
              "      <td>8.0500</td>\n",
              "      <td>-1</td>\n",
              "      <td>S</td>\n",
              "      <td>0</td>\n",
              "      <td>Mr</td>\n",
              "      <td>0</td>\n",
              "      <td>8.05000</td>\n",
              "      <td>(31, 47]</td>\n",
              "      <td>(7.775, 8.229]</td>\n",
              "      <td>(7.775, 8.662]</td>\n",
              "      <td>1</td>\n",
              "      <td>3</td>\n",
              "      <td>2</td>\n",
              "      <td>1</td>\n",
              "      <td>9</td>\n",
              "      <td>1</td>\n",
              "      <td>3</td>\n",
              "      <td>0</td>\n",
              "      <td>11</td>\n",
              "    </tr>\n",
              "  </tbody>\n",
              "</table>\n",
              "</div>"
            ],
            "text/plain": [
              "   PassengerId  Survived  Pclass  ... Embarked_code Deck_codes  Name_title_code\n",
              "0            1         0       3  ...             3          0               11\n",
              "1            2         1       1  ...             1          3               12\n",
              "2            3         1       3  ...             3          0                8\n",
              "3            4         1       1  ...             3          3               12\n",
              "4            5         0       3  ...             3          0               11\n",
              "\n",
              "[5 rows x 28 columns]"
            ]
          },
          "metadata": {
            "tags": []
          },
          "execution_count": 39
        }
      ]
    },
    {
      "cell_type": "markdown",
      "metadata": {
        "id": "Yhh9H5D39ZRb"
      },
      "source": [
        "## Setando os datasets de treino"
      ]
    },
    {
      "cell_type": "code",
      "metadata": {
        "id": "y-42_zVGi_P_"
      },
      "source": [
        "# Raw dataset\n",
        "Xtrain = train.select_dtypes(include='number').drop(['Survived','PassengerId'], axis=1)\n",
        "ytrain = train['Survived']\n",
        "\n",
        "# one hot encode dataset\n",
        "Xtrain_ohe = train_ohe.select_dtypes(include='number').drop(['Survived','PassengerId'], axis=1)\n",
        "ytrain_ohe = train_ohe['Survived']\n",
        "\n",
        "# ordinal encode dataset\n",
        "Xtrain_ord = train_ord.select_dtypes(include='number').drop(['Survived','PassengerId'], axis=1)\n",
        "ytrain_ord = train_ord['Survived']\n",
        "\n",
        "# target encode dataset\n",
        "Xtrain_tg = train_tg.select_dtypes(include='number').drop(['Survived','PassengerId'], axis=1)\n",
        "ytrain_tg = train_tg['Survived']\n",
        "\n",
        "Xtest = test.select_dtypes(include='number').drop('PassengerId', axis=1)"
      ],
      "execution_count": null,
      "outputs": []
    },
    {
      "cell_type": "code",
      "metadata": {
        "id": "i6dD-92_NL1Q"
      },
      "source": [
        "# dataset de treino com todos os encoders juntos\n",
        "train_gg = train.copy()\n",
        "train_gg = pd.merge(train_gg,train_ord, on='PassengerId',suffixes=(' ',' '),)\n",
        "train_gg = pd.merge(train_gg,train_ohe, on='PassengerId',suffixes=(' ',' '))\n",
        "train_gg = pd.merge(train_gg,train_tg, on='PassengerId',suffixes=(' ',' '))\n",
        "\n",
        "test_gg = test.copy()\n",
        "test_gg = pd.merge(test_gg,test_ord, on='PassengerId',suffixes=(' ',' '))\n",
        "test_gg = pd.merge(test_gg,test_ohe, on='PassengerId',suffixes=(' ',' '))\n",
        "test_gg = pd.merge(test_gg,test_tg, on='PassengerId',suffixes=(' ',' '))\n"
      ],
      "execution_count": null,
      "outputs": []
    },
    {
      "cell_type": "code",
      "metadata": {
        "id": "rLFeJE2lX48W"
      },
      "source": [
        "# Verificando existência de colunas duplas\n",
        "train_gg = train_gg.loc[:,~train_gg.columns.duplicated()]\n",
        "test_gg = test_gg.loc[:,~test_gg.columns.duplicated()]"
      ],
      "execution_count": null,
      "outputs": []
    },
    {
      "cell_type": "code",
      "metadata": {
        "id": "Xgt7yt3_Vi9B"
      },
      "source": [
        "Xtrain_gg = train_gg.select_dtypes(include='number').drop(columns=['PassengerId','Survived '])\n",
        "ytrain_gg = train_gg['Survived ']\n",
        "\n",
        "Xtest_gg = test_gg.select_dtypes(include='number').drop('PassengerId', axis=1)"
      ],
      "execution_count": null,
      "outputs": []
    },
    {
      "cell_type": "code",
      "metadata": {
        "id": "SKClWJvNVYVy",
        "outputId": "25fc3a29-3376-417d-ed1a-5896b559c5c2",
        "colab": {
          "base_uri": "https://localhost:8080/",
          "height": 34
        }
      },
      "source": [
        "# Split treino/validação\n",
        "X_train, X_val, y_train, y_val = train_test_split(Xtrain_gg, ytrain_gg, test_size=0.25, random_state=0)\n",
        "\n",
        "X_train.shape, X_val.shape, y_train.shape, y_val.shape"
      ],
      "execution_count": null,
      "outputs": [
        {
          "output_type": "execute_result",
          "data": {
            "text/plain": [
              "((667, 72), (223, 72), (667,), (223,))"
            ]
          },
          "metadata": {
            "tags": []
          },
          "execution_count": 50
        }
      ]
    },
    {
      "cell_type": "markdown",
      "metadata": {
        "id": "JpdvHUhwBmMu"
      },
      "source": [
        "## Início dos treinos"
      ]
    },
    {
      "cell_type": "markdown",
      "metadata": {
        "id": "w2AYP78RBwDX"
      },
      "source": [
        "### Teste primário dos modelos"
      ]
    },
    {
      "cell_type": "code",
      "metadata": {
        "id": "9gsmrjN5lMbT"
      },
      "source": [
        "X_train, X_val, y_train, y_val = train_test_split(Xtrain_gg, ytrain_gg, test_size=0.3, random_state=0)\n",
        "\n",
        "dict_models = {'Random Forest Classifier':RandomForestClassifier(), \n",
        "               'Gradient Boosting Classifier':GradientBoostingClassifier(),\n",
        "               'Extra Trees Classifier':ExtraTreesClassifier(),\n",
        "               'K Neighbors Classifier':KNeighborsClassifier(),\n",
        "               'Decision Tree Classifier':DecisionTreeClassifier(),\n",
        "               'Extra Tree Classifier':ExtraTreeClassifier(), \n",
        "               'LGBM Classifier':LGBMClassifier(),\n",
        "               'XGB Classifier':XGBClassifier()}\n",
        "\n",
        "for key, modelo in dict_models.items():\n",
        "  modelo.fit(X_train, y_train)\n",
        "  \n",
        "  pred = modelo.predict(X_val)\n",
        "\n",
        "  score = accuracy_score(y_val, pred)\n",
        "\n",
        "  print(f'Modelo: {key} - score: {score}')"
      ],
      "execution_count": null,
      "outputs": []
    },
    {
      "cell_type": "markdown",
      "metadata": {
        "id": "NdA2MjzHNf97"
      },
      "source": [
        "### Train normal:\n",
        "- Modelo: Random Forest Classifier - score: 0.6764044943820224\n",
        "- Modelo: Gradient Boosting Classifier - score: 0.701123595505618\n",
        "- Modelo: Extra Trees Classifier - score: 0.6741573033707865\n",
        "- Modelo: K Neighbors Classifier - score: 0.6629213483146067\n",
        "- Modelo: Decision Tree Classifier - score: 0.6494382022471911\n",
        "- Modelo: Extra Tree Classifier - score: 0.6539325842696629\n",
        "- Modelo: LGBM Classifier - score: 0.6808988764044944\n",
        "- Modelo: XGB Classifier - score: 0.6966292134831461\n",
        "\n",
        "### Train One Hot Encode\n",
        "- Modelo: Random Forest Classifier - score: 0.7775280898876404\n",
        "- Modelo: Gradient Boosting Classifier - score: 0.7955056179775281\n",
        "- Modelo: Extra Trees Classifier - score: 0.7528089887640449\n",
        "- Modelo: K Neighbors Classifier - score: 0.6966292134831461\n",
        "- Modelo: Decision Tree Classifier - score: 0.7438202247191011\n",
        "- Modelo: Extra Tree Classifier - score: 0.7370786516853932\n",
        "- Modelo: LGBM Classifier - score: 0.7820224719101123\n",
        "- Modelo: XGB Classifier - score: 0.802247191011236\n",
        "\n",
        "### Train Ordinal\n",
        "- Modelo: Random Forest Classifier - score: 0.7707865168539326\n",
        "- Modelo: Gradient Boosting Classifier - score: 0.7955056179775281\n",
        "- Modelo: Extra Trees Classifier - score: 0.750561797752809\n",
        "- Modelo: K Neighbors Classifier - score: 0.6921348314606741\n",
        "- Modelo: Decision Tree Classifier - score: 0.7393258426966293\n",
        "- Modelo: Extra Tree Classifier - score: 0.7460674157303371\n",
        "- Modelo: LGBM Classifier - score: 0.7797752808988764\n",
        "- Modelo: XGB Classifier - score: 0.8\n",
        "\n",
        "### Train Target Encode \n",
        "- Modelo: Random Forest Classifier - score: 0.7775280898876404\n",
        "- Modelo: Gradient Boosting Classifier - score: 0.797752808988764\n",
        "- Modelo: Extra Trees Classifier - score: 0.7460674157303371\n",
        "- Modelo: K Neighbors Classifier - score: 0.6651685393258427\n",
        "- Modelo: Decision Tree Classifier - score: 0.7438202247191011\n",
        "- Modelo: Extra Tree Classifier - score: 0.7528089887640449\n",
        "- Modelo: LGBM Classifier - score: 0.7932584269662921\n",
        "- Modelo: XGB Classifier - score: 0.7932584269662921\n",
        "\n",
        "### Train geral junto\n",
        "- Modelo: Random Forest Classifier - score: 0.7640449438202247\n",
        "- Modelo: Gradient Boosting Classifier - score: 0.797752808988764\n",
        "- Modelo: Extra Trees Classifier - score: 0.750561797752809\n",
        "- Modelo: K Neighbors Classifier - score: 0.6966292134831461\n",
        "- Modelo: Decision Tree Classifier - score: 0.7438202247191011\n",
        "- Modelo: Extra Tree Classifier - score: 0.7393258426966293\n",
        "- Modelo: LGBM Classifier - score: 0.7820224719101123\n",
        "- Modelo: XGB Classifier - score: 0.797752808988764"
      ]
    },
    {
      "cell_type": "markdown",
      "metadata": {
        "id": "QJE3fUHlCJd3"
      },
      "source": [
        "### Hiperparametrização dos modelos com melhores resultados preliminares "
      ]
    },
    {
      "cell_type": "code",
      "metadata": {
        "id": "caN3eZFh3RP6"
      },
      "source": [
        "# Otimização do Modelo 1\n",
        "# scores baseline: 0.7775280898876404\n",
        "\n",
        "from skopt import BayesSearchCV\n",
        "\n",
        "hp_params_dict1 = dict(max_depth=(4,20), min_samples_split=(0.05,1.0),\n",
        "                          min_samples_leaf=(0.05,0.5), max_leaf_nodes=(2,128),\n",
        "                          min_impurity_decrease=(0.0,1.0), min_weight_fraction_leaf=(0.0,0.5))\n",
        "\n",
        "for class_weight in ['balanced', 'balanced_subsample']:\n",
        "  for criterion in ['gini', 'entropy']:\n",
        "    opt1 = BayesSearchCV(RandomForestClassifier(n_estimators=500,random_state=0,\n",
        "                                                class_weight=class_weight,\n",
        "                                                criterion=criterion),\n",
        "                         hp_params_dict1, n_jobs=-1, n_iter=50, cv=2, verbose=0)\n",
        "\n",
        "    opt1.fit(Xtrain_gg,ytrain_gg) \n",
        "\n",
        "    print(f'class_weight -> {class_weight}, criterion -> {criterion}, best score = {opt1.best_score_},\\nmelhores params = {opt1.best_params_}')\n"
      ],
      "execution_count": null,
      "outputs": []
    },
    {
      "cell_type": "code",
      "metadata": {
        "id": "QkYRKOIu36vE"
      },
      "source": [
        "# Otimização do Modelo 2\n",
        "# score baseline: 0.797752808988764\n",
        "\n",
        "# loss{‘deviance’, ‘exponential’}, default=’deviance’\n",
        "# criterion{‘friedman_mse’, ‘mse’, ‘mae’}, default=’friedman_mse’\n",
        "\n",
        "hp_params_dict2 = dict(learning_rate = (0.001,0.01,'log-uniform'), \n",
        "                          min_samples_split = (0.25,0.7), \n",
        "                          min_samples_leaf = (0.05,0.35), max_depth = (4,20))\n",
        "\n",
        "for loss in ['deviance', 'exponential']:\n",
        "  for criterion in ['friedman_mse', 'mse', 'mae']:\n",
        "    opt2 = BayesSearchCV(GradientBoostingClassifier(n_estimators=500,\n",
        "                                                    random_state=0,loss=loss,\n",
        "                                                    criterion=criterion),\n",
        "                         hp_params_dict2, n_jobs=-1, n_iter=50, cv=2, verbose=0)\n",
        "\n",
        "    opt2.fit(Xtrain_gg,ytrain_gg)\n",
        "\n",
        "    print(f'loss -> {loss}, criterion -> {criterion}, best score = {opt2.best_score_},\\nmelhores params = {opt2.best_params_}')"
      ],
      "execution_count": null,
      "outputs": []
    },
    {
      "cell_type": "code",
      "metadata": {
        "id": "86oq_zBo1taU"
      },
      "source": [
        "# Otimização do Modelo 3\n",
        "# score baseline: 0.7528089887640449\n",
        "\n",
        "hp_params_dict3 = dict(max_depth=(4, 20), min_samples_split=(0.01, 1.0),\n",
        "                       min_samples_leaf=(0.01, 0.5),\n",
        "                       min_weight_fraction_leaf=(0.0, 0.5))\n",
        "\n",
        "for criterion in ['gini', 'entropy']:\n",
        "  for class_weight in ['balanced', 'balanced_subsample']:\n",
        "    opt3 = BayesSearchCV(ExtraTreesClassifier(n_estimators=300, random_state=0),\n",
        "                         hp_params_dict3, n_jobs=-1, cv=2, n_iter=50)\n",
        "    \n",
        "    opt3.fit(Xtrain_gg,ytrain_gg)\n",
        "\n",
        "    print(f'class_weight -> {class_weight}, criterion -> {criterion}, best score = {opt1.best_score_},\\nmelhores params = {opt1.best_params_}')"
      ],
      "execution_count": null,
      "outputs": []
    },
    {
      "cell_type": "code",
      "metadata": {
        "id": "vcoIcyNl38sF"
      },
      "source": [
        "# Otimização do Modelo 9\n",
        "# score baseline: 0.7932584269662921\n",
        "\n",
        "hp_params_dict9 = dict(learning_rate=(1e-3,1e-1),num_leaves=(2,128),\n",
        "                      min_child_samples=(1,100), subsample=(0.05,1.0),\n",
        "                      colsample_bytree=(0.1,1.0))\n",
        "\n",
        "opt9 = BayesSearchCV(LGBMClassifier(n_estimators=300, random_state=0),hp_params_dict9,\n",
        "                    n_jobs=-1, n_iter=200, cv=2, verbose=0)\n",
        "\n",
        "opt9.fit(Xtrain_gg,ytrain_gg)\n",
        "\n",
        "print(f'best score = {opt9.best_score_}, melhores params = {opt9.best_params_}')\n"
      ],
      "execution_count": null,
      "outputs": []
    },
    {
      "cell_type": "code",
      "metadata": {
        "id": "xWJPdftmL7LN"
      },
      "source": [
        "# Otimização do Modelo 10\n",
        "# score baseline: 0.802247191011236\n",
        "\n",
        "hp_params_dict10 = dict(max_depth=(4,20), subsample=(0.1,1.0),\n",
        "                        colsample_bylevel=(0.1,1.0), colsample_bytree=(0.1,1.0),\n",
        "                        min_child_weight=(1,30), reg_alpha=(0.0,1.0), reg_lambda=(0.0,1.0),\n",
        "                        learning_rate=(0.001, 0.1))\n",
        "\n",
        "opt10 = BayesSearchCV(XGBClassifier(n_estimators=300, random_state=0),\n",
        "                      hp_params_dict10, n_jobs=-1, n_iter=200, cv=2, verbose=0)\n",
        "\n",
        "opt10.fit(Xtrain_gg,ytrain_gg)\n",
        "\n",
        "print(f'best score = {opt10.best_score_}, melhores params = {opt10.best_params_}')\n"
      ],
      "execution_count": null,
      "outputs": []
    },
    {
      "cell_type": "markdown",
      "metadata": {
        "id": "20WC7wiLZZ2S"
      },
      "source": [
        "# **Melhores resultados**\n",
        "\n",
        "- ## Random Forest Classifier\n",
        "\n",
        "  - **class_weight** -> balanced,\n",
        "    \n",
        "    **criterion** -> entropy,\n",
        "    \n",
        "    **best score**: 0.7887640449438202,\n",
        "    \n",
        "    **melhores params**:\n",
        "    - (**max_depth**, 5),\n",
        "    - (**max_leaf_nodes**, 45),\n",
        "    - (**min_impurity_decrease**, 0.09134778204836073),\n",
        "    - (**min_samples_leaf**, 0.08845872709942093),\n",
        "    - (**min_samples_split**, 0.07163235347452308), \n",
        "    - (**min_weight_fraction_leaf**, 0.34402341231767675)\n",
        "\n",
        "  - **class_weight** -> balanced_subsample,\n",
        "    \n",
        "    **criterion** -> gini,\n",
        "    \n",
        "    **best score** = 0.7887640449438202,\n",
        "    \n",
        "    **melhores params**:\n",
        "    - (**max_depth**, 19),\n",
        "    - (**max_leaf_nodes**, 89),\n",
        "    - (**min_impurity_decrease**, 0.09469958749590013),\n",
        "    - (**min_samples_leaf**, 0.05),\n",
        "    - (**min_samples_split**, 0.08980401552521708),\n",
        "    - (**min_weight_fraction_leaf**, 0.32355998101957956)\n",
        "\n",
        "  - **class_weight** -> balanced_subsample,\n",
        "    \n",
        "    **criterion** -> entropy,\n",
        "    \n",
        "    **best score** = 0.7887640449438202,\n",
        "    \n",
        "    **melhores params**:\n",
        "    - (**max_depth**, 4),\n",
        "    - (**max_leaf_nodes**, 2),\n",
        "    - (**min_impurity_decrease**, 0.0),\n",
        "    - (**min_samples_leaf**, 0.05),\n",
        "    - (**min_samples_split**, 0.13068142884371958),\n",
        "    - (**min_weight_fraction_leaf**, 0.0)])\n",
        "\n",
        "- ## Gradient Boosting Classifier\n",
        "\n",
        "  - **loss** -> exponential,\n",
        "    \n",
        "    **criterion** -> mse,\n",
        "   \n",
        "    **best score** = 0.8191011235955056,\n",
        "    \n",
        "    **melhores params**:\n",
        "    - (**learning_rate**, 0.007045471947588707),\n",
        "    - (**max_depth**, 20),\n",
        "    - (**min_samples_leaf**, 0.05),\n",
        "    - (**min_samples_split**, 0.25)\n",
        "\n",
        "- ## Extra trees Classifier\n",
        "\n",
        "  - **class_weight** -> balanced,\n",
        "    \n",
        "    **criterion** -> gini,\n",
        "    \n",
        "    **best score** = 0.7887640449438202,\n",
        "    \n",
        "    **melhores params**:\n",
        "    - (**max_depth**, 4),\n",
        "    - (**max_leaf_nodes**, 2),\n",
        "    - (**min_impurity_decrease**, 0.0),\n",
        "    - (**min_samples_leaf**, 0.05),\n",
        "    - (**min_samples_split**, 0.13068142884371958),\n",
        "    - (**min_weight_fraction_leaf**, 0.0)])\n",
        "\n",
        "- ## LGBM Classifier\n",
        "\n",
        "  - **best score** = 0.8258426966292135,\n",
        "    \n",
        "    **melhores params**:\n",
        "    - (**colsample_bytree**, 1.0),\n",
        "    - (**learning_rate**, 0.06658562101196022),\n",
        "    - (**min_child_samples**, 68),\n",
        "    - (**num_leaves**, 128),\n",
        "    - (**subsample**, 0.05)\n",
        "\n",
        "- ## XGB Classifier\n",
        "\n",
        "  - **best score** = 0.8314606741573034,\n",
        "    \n",
        "    **melhores params**:\n",
        "    - (**colsample_bylevel**, 1.0),\n",
        "    - (**colsample_bytree**, 0.8148220656676483),\n",
        "    - (**learning_rate**, 0.043342234186430975),\n",
        "    - (**max_depth**, 20),\n",
        "    - (**min_child_weight**, 4),\n",
        "    - (**reg_alpha**, 1.0),\n",
        "    - (**reg_lambda**, 0.46614109945918136),\n",
        "    - (**subsample**, 1.0)\n",
        "\n"
      ]
    },
    {
      "cell_type": "markdown",
      "metadata": {
        "id": "2FligSwaCZA2"
      },
      "source": [
        "### Seleção de features"
      ]
    },
    {
      "cell_type": "code",
      "metadata": {
        "id": "TZhM-RhVDmP1"
      },
      "source": [
        "from sklearn.feature_selection import SelectKBest, SelectPercentile, f_regression, f_classif"
      ],
      "execution_count": null,
      "outputs": []
    },
    {
      "cell_type": "code",
      "metadata": {
        "id": "6z3qs9uY_Xf7"
      },
      "source": [
        "# melhores modelos até agora\n",
        "modelo2 = GradientBoostingClassifier(loss='exponential', criterion='mse',\n",
        "                                     learning_rate=0.007045471947588707,\n",
        "                                     max_depth=20, min_samples_leaf=0.05,\n",
        "                                     min_samples_split=0.25, random_state=0,\n",
        "                                     n_estimators=300)\n",
        "\n",
        "modelo9 = LGBMClassifier(colsample_bytree=1.0, learning_rate=0.06658562101196022,\n",
        "                         min_child_samples=68, num_leaves=128, subsample=0.05,\n",
        "                         random_state=0, n_estimators=300)\n",
        "\n",
        "modelo10 = XGBClassifier(colsample_bytree=0.8148220656676483, colsample_bylevel=1.0,\n",
        "                         learning_rate=0.043342234186430975, max_depth=20,\n",
        "                         min_child_weight=4, reg_alpha=1.0,\n",
        "                         reg_lambda=0.46614109945918136, subsample=1.0, \n",
        "                         random_state=0, n_estimators=300)"
      ],
      "execution_count": null,
      "outputs": []
    },
    {
      "cell_type": "code",
      "metadata": {
        "id": "EeYPbrGDXTck",
        "outputId": "aeb0b850-5c83-446f-e622-664bbab79c4e",
        "colab": {
          "base_uri": "https://localhost:8080/",
          "height": 425
        }
      },
      "source": [
        "var_menor_erro = None\n",
        "valor_menor_erro = 1000\n",
        "valor_menor_erro_geral = 1000\n",
        "best_features =[]\n",
        "lista = X_train.columns.to_list()\n",
        "\n",
        "for ind in range(len(X_train.columns)):\n",
        "  print(f'Escolhendo a variável {ind+1}')\n",
        "  for var in lista:\n",
        "    #mdl = RandomForestRegressor(n_estimators=500, random_state=0, n_jobs=-1)\n",
        "    modelo10.fit(X_train[best_features + [var]], y_train)\n",
        "    p = modelo10.predict(X_val[best_features + [var]])\n",
        "\n",
        "    erro = accuracy_score(y_val, p)\n",
        "\n",
        "    #print(f'Variável: {var} - Erro: {erro:.4f}\\n')\n",
        "\n",
        "    if -erro < valor_menor_erro:\n",
        "      var_menor_erro = var\n",
        "      valor_menor_erro = -erro\n",
        "  \n",
        "  print(f'Melhor Variável: {var_menor_erro} - Erro: {valor_menor_erro:.5f}\\n')  \n",
        "  \n",
        "   \n",
        "  if valor_menor_erro < valor_menor_erro_geral:\n",
        "    valor_menor_erro_geral = valor_menor_erro\n",
        "    best_features.append(var_menor_erro)\n",
        "    lista.remove(var_menor_erro)\n",
        "  else:\n",
        "    print('Nenhuma variável melhora o score\\n')\n",
        "    break\n",
        "\n",
        "print(f'Melhore(s) Variável(is): {best_features}')"
      ],
      "execution_count": null,
      "outputs": [
        {
          "output_type": "stream",
          "text": [
            "Escolhendo a variável 1\n",
            "Melhor Variável: Sex_code - Erro: -0.77578\n",
            "\n",
            "Escolhendo a variável 2\n",
            "Melhor Variável: Family_size  - Erro: -0.78924\n",
            "\n",
            "Escolhendo a variável 3\n",
            "Melhor Variável: Age_band_code  - Erro: -0.80269\n",
            "\n",
            "Escolhendo a variável 4\n",
            "Melhor Variável: Fare  - Erro: -0.82511\n",
            "\n",
            "Escolhendo a variável 5\n",
            "Melhor Variável: Sex_male - Erro: -0.82960\n",
            "\n",
            "Escolhendo a variável 6\n",
            "Melhor Variável: Age_band_code_3.0 - Erro: -0.83857\n",
            "\n",
            "Escolhendo a variável 7\n",
            "Melhor Variável: Age_band_code_3.0 - Erro: -0.83857\n",
            "\n",
            "Nenhuma variável melhora o score\n",
            "\n",
            "Melhore(s) Variável(is): ['Sex_code', 'Family_size ', 'Age_band_code ', 'Fare ', 'Sex_male', 'Age_band_code_3.0']\n"
          ],
          "name": "stdout"
        }
      ]
    },
    {
      "cell_type": "markdown",
      "metadata": {
        "id": "iTDOzMSAeic7"
      },
      "source": [
        "Gradient Boosting Classifier: score = 0.80269\n",
        "\n",
        "Melhores Variáveis: ['Sex_code', 'Age_band_code*Class ', 'Name_title_code', 'Name_title_Mr', 'Fare_per_person_band_code_5.0']\n",
        "\n",
        "LGBM Classifier: score = 0.82063\n",
        "\n",
        "Melhores Variáveis:['Sex_code', 'Age ', 'Fare_per_person_band_code', 'Age_band_code_3.0']\n",
        "\n",
        "XGB Classifier: score = 0.83857\n",
        "\n",
        "Melhores variáveis: ['Sex_code', 'Family_size ', 'Age_band_code ', 'Fare ', 'Sex_male', 'Age_band_code_3.0']\n"
      ]
    },
    {
      "cell_type": "code",
      "metadata": {
        "id": "UzMlSOUCgRQd",
        "outputId": "d1b2ede0-c33d-4713-9d50-31db7396d527",
        "colab": {
          "base_uri": "https://localhost:8080/",
          "height": 34
        }
      },
      "source": [
        "variaveis = ['Sex_code', 'Family_size ', 'Age_band_code ', 'Fare ', 'Sex_male', 'Age_band_code_3.0']\n",
        "modelo10.fit(X_train[variaveis], y_train)\n",
        "pred = modelo10.predict(X_val[variaveis])\n",
        "score = accuracy_score(y_val, pred)\n",
        "score"
      ],
      "execution_count": null,
      "outputs": [
        {
          "output_type": "execute_result",
          "data": {
            "text/plain": [
              "0.8385650224215246"
            ]
          },
          "metadata": {
            "tags": []
          },
          "execution_count": 67
        }
      ]
    },
    {
      "cell_type": "code",
      "metadata": {
        "id": "fbW3IeiBjYSx",
        "outputId": "afb84a79-b68f-4041-fb8b-b3658cc161da",
        "colab": {
          "base_uri": "https://localhost:8080/",
          "height": 340
        }
      },
      "source": [
        "pred_final = modelo10.predict(Xtest_gg[variaveis])\n",
        "pred_final"
      ],
      "execution_count": null,
      "outputs": [
        {
          "output_type": "execute_result",
          "data": {
            "text/plain": [
              "array([0, 1, 0, 0, 1, 0, 1, 0, 1, 0, 0, 0, 1, 0, 1, 1, 0, 0, 1, 1, 0, 0,\n",
              "       1, 0, 1, 0, 1, 0, 1, 0, 0, 1, 1, 1, 0, 0, 0, 0, 0, 0, 0, 0, 0, 1,\n",
              "       1, 0, 0, 0, 1, 1, 0, 0, 1, 1, 0, 0, 0, 0, 0, 1, 0, 0, 0, 1, 0, 1,\n",
              "       1, 0, 0, 1, 1, 0, 1, 0, 1, 1, 0, 1, 0, 1, 1, 0, 0, 0, 0, 0, 1, 0,\n",
              "       1, 1, 1, 0, 1, 0, 0, 0, 1, 0, 1, 0, 1, 0, 0, 0, 0, 0, 0, 0, 0, 0,\n",
              "       0, 1, 1, 1, 1, 0, 0, 1, 0, 1, 1, 0, 1, 0, 0, 1, 0, 1, 0, 0, 0, 0,\n",
              "       0, 0, 0, 0, 0, 0, 0, 0, 0, 1, 0, 0, 1, 0, 0, 0, 0, 0, 1, 0, 0, 1,\n",
              "       0, 0, 1, 1, 1, 1, 1, 1, 1, 0, 0, 1, 0, 0, 1, 0, 0, 0, 0, 0, 0, 1,\n",
              "       1, 0, 1, 1, 0, 0, 1, 0, 1, 0, 1, 0, 0, 0, 0, 0, 1, 0, 1, 0, 1, 1,\n",
              "       0, 0, 1, 1, 0, 1, 0, 0, 1, 0, 1, 0, 0, 0, 0, 1, 0, 0, 1, 0, 1, 0,\n",
              "       1, 0, 1, 0, 1, 1, 0, 1, 0, 0, 0, 1, 0, 0, 0, 0, 0, 0, 1, 1, 1, 1,\n",
              "       0, 0, 0, 0, 1, 0, 1, 0, 1, 0, 0, 0, 0, 0, 0, 0, 1, 0, 0, 0, 1, 1,\n",
              "       0, 0, 0, 0, 0, 0, 0, 0, 1, 1, 0, 1, 0, 0, 0, 0, 0, 1, 1, 1, 1, 0,\n",
              "       0, 0, 0, 0, 0, 1, 0, 0, 0, 0, 1, 0, 0, 0, 0, 0, 0, 0, 1, 1, 0, 1,\n",
              "       0, 1, 0, 0, 0, 1, 1, 1, 0, 0, 0, 1, 0, 0, 0, 1, 1, 0, 1, 0, 0, 0,\n",
              "       1, 0, 0, 1, 0, 0, 0, 0, 1, 0, 0, 0, 0, 1, 1, 1, 0, 1, 0, 1, 1, 0,\n",
              "       0, 0, 1, 0, 1, 0, 0, 0, 0, 1, 1, 0, 1, 0, 0, 1, 1, 0, 0, 1, 0, 0,\n",
              "       1, 1, 0, 0, 0, 0, 0, 0, 1, 1, 0, 1, 0, 0, 0, 0, 0, 1, 1, 0, 0, 1,\n",
              "       0, 1, 0, 0, 1, 0, 1, 0, 0, 0, 0, 0, 1, 1, 1, 1, 1, 0, 1, 0, 0, 0])"
            ]
          },
          "metadata": {
            "tags": []
          },
          "execution_count": 68
        }
      ]
    },
    {
      "cell_type": "code",
      "metadata": {
        "id": "7PUmHIis9TSh"
      },
      "source": [
        "# Criando submissão\n",
        "sub = pd.Series(pred_final, index=test['PassengerId'], name='Survived') # modelo 2 só tunado\n",
        "sub.to_csv('gender_submission_provided28.csv', header=True)\n",
        "\n",
        "# Score na competição: 0.77511"
      ],
      "execution_count": null,
      "outputs": []
    },
    {
      "cell_type": "markdown",
      "metadata": {
        "id": "X-XrvDBsDswr"
      },
      "source": [
        "## Testes despretenciosos"
      ]
    },
    {
      "cell_type": "code",
      "metadata": {
        "id": "iY19UtcF1nah"
      },
      "source": [
        "def select_features(modelo):\n",
        "  k_vs_score = []\n",
        "  for k in range(1,len(Xtrain_gg.columns)):\n",
        "    selector = SelectKBest(score_func=f_classif, k=k)\n",
        "\n",
        "    X_train2 = selector.fit_transform(X_train, y_train)\n",
        "    X_val2 = selector.transform(X_val)\n",
        "\n",
        "    modelo.fit(X_train2, y_train)\n",
        "    \n",
        "    pred_sf = modelo.predict(X_val2)\n",
        "    \n",
        "    score_sf = accuracy_score(y_val, pred_sf)\n",
        "    k_vs_score.append(-score_sf)\n",
        "    print(f'k = {k} - Accuracy = {score_sf}')\n",
        "\n",
        "  return k_vs_score\n"
      ],
      "execution_count": null,
      "outputs": []
    },
    {
      "cell_type": "code",
      "metadata": {
        "id": "1JCzKd8FChAr"
      },
      "source": [
        "plot2 = select_features(modelo2)\n",
        "plot9 = select_features(modelo9)\n",
        "plot10 = select_features(modelo10)\n"
      ],
      "execution_count": null,
      "outputs": []
    },
    {
      "cell_type": "code",
      "metadata": {
        "id": "KxK3xfD_G2LK"
      },
      "source": [
        "plt.figure(figsize=(12,6))\n",
        "plt.plot(plot2)\n",
        "plt.plot(plot9)\n",
        "plt.plot(plot10)\n",
        "plt.title('Feature selection', size=20)\n",
        "plt.xlabel('Qte. features', size=12)\n",
        "plt.ylabel('Neg. accuracy', size=12)\n",
        "plt.legend()\n",
        "plt.show()"
      ],
      "execution_count": null,
      "outputs": []
    },
    {
      "cell_type": "code",
      "metadata": {
        "id": "lKJtWtZEEeMV"
      },
      "source": [
        "from sklearn.feature_selection import SelectFromModel\n",
        "from sklearn.linear_model import LinearRegression, Ridge, Lasso\n",
        "from sklearn.ensemble import RandomForestRegressor\n",
        "\n",
        "k_vs_score3 = []\n",
        "#for k in range(2, len(Xtrain_gg.columns)):\n",
        "  #selector_model = LinearRegression(normalize=True) # muita feature\n",
        "  #selector_model = Ridge(alpha=1.0, normalize=True) #não foi melhor que o linear-reg\n",
        "selector_model = Lasso(alpha=1.0, normalize=True) # Foi o melhor pra esse caso ( e aparentemente para vários outros)\n",
        "  #selector_model = XGBClassifier(random_state=0, n_jobs=-1) # As vezes o que escolhe é o que treina... as vezes\n",
        "k = 31\n",
        "selector = SelectFromModel(selector_model, max_features=k, threshold=-np.inf)\n",
        "\n",
        "selector.fit(X_train, y_train)\n",
        "X_train_cont = selector.transform(X_train)\n",
        "X_val_cont = selector.transform(X_val)\n",
        "\n",
        "modelo2.fit(X_train_cont, y_train)\n",
        "\n",
        "predicoes = modelo2.predict(X_val_cont)\n",
        "\n",
        "score = accuracy_score(y_val, predicoes)\n",
        "\n",
        "print(f'k = {k} - Accuracy = {score}')\n",
        "k_vs_score3.append(score)\n"
      ],
      "execution_count": null,
      "outputs": []
    },
    {
      "cell_type": "code",
      "metadata": {
        "id": "jndsMJSdKrRZ"
      },
      "source": [
        "# modelo 2: lasso, 31 < k < 68\n",
        "# modelo 9: lasso 13 < k < 30 e k = 69, 70\n",
        "#modelo 10: lasso 14 < k < 16 e 40 < k < 54\n",
        "\n",
        "plt.plot(k_vs_score1)\n",
        "plt.plot(k_vs_score2)\n",
        "plt.plot(k_vs_score3)\n",
        "plt.plot(k_vs_score4)"
      ],
      "execution_count": null,
      "outputs": []
    },
    {
      "cell_type": "code",
      "metadata": {
        "id": "2bn8jICZPa6K"
      },
      "source": [
        "mask = selector.get_support()\n",
        "columns_model_2 = X_train.columns[mask]\n"
      ],
      "execution_count": null,
      "outputs": []
    },
    {
      "cell_type": "code",
      "metadata": {
        "id": "RKt_VPc6Qie3"
      },
      "source": [
        "mask = selector.get_support()\n",
        "columns_model_9 = X_train.columns[mask]\n"
      ],
      "execution_count": null,
      "outputs": []
    },
    {
      "cell_type": "code",
      "metadata": {
        "id": "aviKgP4kQ3an"
      },
      "source": [
        "mask = selector.get_support()\n",
        "columns_model_10 = X_train.columns[mask]\n"
      ],
      "execution_count": null,
      "outputs": []
    },
    {
      "cell_type": "code",
      "metadata": {
        "id": "7Lhzd3GhUObL"
      },
      "source": [
        "len(columns_model_2), len(columns_model_9), len(columns_model_10)"
      ],
      "execution_count": null,
      "outputs": []
    },
    {
      "cell_type": "code",
      "metadata": {
        "id": "avpPJ6mw6SpY"
      },
      "source": [
        "# teste doido para o modelo 2... só pra ganhar xp\n",
        "\n",
        "fs = []\n",
        "for seed in range(1000):\n",
        "  np.random.seed(seed)\n",
        "  k = np.random.randint(1, 71, 1)[0]\n",
        "  selected = np.random.choice(X_train.columns, k, replace=False)\n",
        "  #print(selected)\n",
        "  \n",
        "  X_train2 = X_train[selected]\n",
        "  X_val2 = X_val[selected]\n",
        "  \n",
        "  modelo10.fit(X_train2, y_train)\n",
        "\n",
        "  p = modelo10.predict(X_val2)\n",
        "\n",
        "  score = accuracy_score(y_val, p)\n",
        "  if score > 0.81:\n",
        "    print(f\"seed = {seed} - k = {k} - MAE = {score}\")\n",
        "    fs.append(p)"
      ],
      "execution_count": null,
      "outputs": []
    },
    {
      "cell_type": "code",
      "metadata": {
        "id": "bmR8skpa-7zw"
      },
      "source": [
        "np.random.seed(254)\n",
        "k = 42\n",
        "columns_model_10_2 = np.random.choice(X_train.columns, k, replace=False)\n",
        "columns_model_10_2"
      ],
      "execution_count": null,
      "outputs": []
    },
    {
      "cell_type": "code",
      "metadata": {
        "id": "bXrjXTBxTvqy"
      },
      "source": [
        "modelo2.fit(Xtrain_gg[columns_model_2], ytrain_gg)\n",
        "pred2 = modelo2.predict(Xtest_gg[columns_model_2])"
      ],
      "execution_count": null,
      "outputs": []
    },
    {
      "cell_type": "code",
      "metadata": {
        "id": "6fBLKNMcW0re"
      },
      "source": [
        "modelo9.fit(Xtrain_gg[columns_model_9], ytrain_gg)\n",
        "pred9 = modelo9.predict(Xtest_gg[columns_model_9])"
      ],
      "execution_count": null,
      "outputs": []
    },
    {
      "cell_type": "code",
      "metadata": {
        "id": "_Ty9CueQXYH7"
      },
      "source": [
        "modelo10.fit(Xtrain_gg[columns_model_10], ytrain_gg)\n",
        "pred10 = modelo10.predict(Xtest_gg[columns_model_10])"
      ],
      "execution_count": null,
      "outputs": []
    },
    {
      "cell_type": "code",
      "metadata": {
        "id": "AoVae33fXdzK"
      },
      "source": [
        "np.random.seed(254)\n",
        "modelo10.fit(Xtrain_gg[columns_model_10_2], ytrain_gg)\n",
        "pred10_2 = modelo10.predict(Xtest_gg[columns_model_10_2])"
      ],
      "execution_count": null,
      "outputs": []
    }
  ]
}